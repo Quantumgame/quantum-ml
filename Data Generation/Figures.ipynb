{
 "cells": [
  {
   "cell_type": "markdown",
   "metadata": {},
   "source": [
    "# Figures\n",
    "I will use this notebook to create figures for the paper."
   ]
  },
  {
   "cell_type": "code",
   "execution_count": 2,
   "metadata": {
    "collapsed": true
   },
   "outputs": [],
   "source": [
    "import numpy as np\n",
    "import matplotlib.pyplot as plt\n",
    "%matplotlib inline\n",
    "import sys\n",
    "sys.path.append(\"/Users/sandesh/repos/quantum-ml/Nanowire Model/\")\n",
    "sys.path.append(\"/Users/sandesh/repos/quantum-ml/Data Generation/\")\n",
    "\n",
    "import matplotlib as mpl\n",
    "label_size = 12\n",
    "mpl.rcParams['xtick.labelsize'] = label_size \n",
    "mpl.rcParams['ytick.labelsize'] = label_size \n",
    "mpl.rcParams.update({'font.size': 12})\n",
    "\n",
    "import matplotlib.cm as cm\n",
    "mpl.rcParams['font.family'] = \"serif\""
   ]
  },
  {
   "cell_type": "markdown",
   "metadata": {},
   "source": [
    "## Single dot figures\n",
    "I need the following figures\n",
    "\n",
    "* a plunger trace + associated charge\n",
    "* dataview of the training set "
   ]
  },
  {
   "cell_type": "code",
   "execution_count": 3,
   "metadata": {
    "collapsed": true
   },
   "outputs": [],
   "source": [
    "import random_single_dot\n",
    "data_path = \"/Users/sandesh/repos/quantum-ml/Data Generation/Figure Data/\"\n",
    "\n",
    "result = random_single_dot.calc_plunger_trace(1024,data_path)"
   ]
  },
  {
   "cell_type": "code",
   "execution_count": 11,
   "metadata": {
    "scrolled": true
   },
   "outputs": [
    {
     "data": {
      "text/plain": [
       "<matplotlib.figure.Figure at 0x120a914e0>"
      ]
     },
     "metadata": {},
     "output_type": "display_data"
    },
    {
     "data": {
      "image/png": "[encoded data removed]",
      "text/plain": [
       "<matplotlib.figure.Figure at 0x120a915f8>"
      ]
     },
     "metadata": {},
     "output_type": "display_data"
    }
   ],
   "source": [
    "V_P_vec = result['V_P_vec']\n",
    "current_vec = [x['current'] for x in result['output']]\n",
    "charge_vec = [np.sum(x['charge']) for x in result['output']]\n",
    "\n",
    "plt.figure(1)\n",
    "fig,ax1 = plt.subplots()\n",
    "p1 = ax1.plot(-V_P_vec,current_vec/np.max(current_vec),'b-',label=\"Current\")\n",
    "ax1.set_yticklabels([])\n",
    "\n",
    "ax2 = ax1.twinx()\n",
    "p2 = ax2.plot(-V_P_vec,charge_vec, 'r--',label=\"Island Charge\")\n",
    "fig.tight_layout()\n",
    "labels = [x.get_label() for x in p1 + p2]\n",
    "fig.legend(p1+p2,labels,loc=(0.2,0.7))\n",
    "\n",
    "a = plt.gca()\n",
    "a.set_xticklabels([])\n",
    "a.set_yticklabels([])\n",
    "plt.title(\"\")\n",
    "\n",
    "plt.savefig(\"/Users/sandesh/Desktop/sd_combined.pdf\",dpi=300)"
   ]
  },
  {
   "cell_type": "markdown",
   "metadata": {},
   "source": [
    "## Double Dot\n",
    "\n",
    "I need two figures here:\n",
    "* a deeper map focusing on the honeycombs\n",
    "* a larger map displaying all 4 states\n"
   ]
  },
  {
   "cell_type": "code",
   "execution_count": null,
   "metadata": {
    "collapsed": true
   },
   "outputs": [],
   "source": []
  },
  {
   "cell_type": "code",
   "execution_count": null,
   "metadata": {},
   "outputs": [],
   "source": [
    "import random_double_dot\n",
    "import imp\n",
    "imp.reload(random_double_dot)\n",
    "data_path = \"/Users/sandesh/repos/quantum-ml/Data Generation/Figure Data/\"\n",
    "\n",
    "res = random_double_dot.calc_plunger_map(256,data_path)"
   ]
  },
  {
   "cell_type": "code",
   "execution_count": null,
   "metadata": {},
   "outputs": [],
   "source": [
    "V_P1= np.array(res['V_P1_vec'])\n",
    "V_P2= np.array(res['V_P2_vec'])\n",
    "N_v = V_P1.shape[0]\n",
    "XX,YY = np.meshgrid(V_P1,V_P2)\n",
    "\n",
    "\n",
    "current_vec = np.array([x['current'] for x in res['output']]).reshape(N_v,N_v)\n",
    "charge_vec = np.array([np.sum(x['charge']) for x in res['output']]).reshape(N_v,N_v)\n",
    "state_vec = np.array([x['state'] for x in res['output']]).reshape(N_v,N_v)\n",
    "sensor_vec = np.array([x['sensor'] for x in res['output']]).reshape(N_v,N_v,-1)\n",
    "\n",
    "plt.figure(1)\n",
    "plt.pcolor(-XX,-YY,1e4*current_vec,vmax=1.0,cmap=cm.RdYlGn)\n",
    "cbar = plt.colorbar()\n",
    "cbar.set_ticks([])\n",
    "cbar.set_ticklabels([])\n",
    "a = plt.gca()\n",
    "a.set_xticklabels([])\n",
    "a.set_yticklabels([])\n",
    "plt.savefig(\"/Users/sandesh/Desktop/dd_current.pdf\",dpi=300)\n",
    "\n",
    "plt.figure(2)\n",
    "plt.pcolor(-XX,-YY,charge_vec)\n",
    "cbar = plt.colorbar()\n",
    "cbar.set_ticks([])\n",
    "cbar.set_ticklabels([])\n",
    "a = plt.gca()\n",
    "a.set_xticklabels([])\n",
    "a.set_yticklabels([])\n",
    "plt.savefig(\"/Users/sandesh/Desktop/dd_charge.pdf\",dpi=300)"
   ]
  },
  {
   "cell_type": "code",
   "execution_count": 22,
   "metadata": {},
   "outputs": [
    {
     "data": {
      "image/png": "[encoded data removed]",
      "text/plain": [
       "<matplotlib.figure.Figure at 0x119a661d0>"
      ]
     },
     "metadata": {},
     "output_type": "display_data"
    }
   ],
   "source": [
    "plt.figure(3)\n",
    "import matplotlib as mpl\n",
    "cmap = mpl.colors.ListedColormap([[0., .4, 1.], [0., .8, 1.],\n",
    "                                  [1., .8, 0.], [1., .4, 0.]])\n",
    "plt.pcolor(-XX,-YY,state_vec,cmap=cmap)\n",
    "a = plt.gca()\n",
    "a.set_xticklabels([])\n",
    "a.set_yticklabels([])\n",
    "cbar = plt.colorbar()\n",
    "cbar.set_ticks([])\n",
    "cbar.set_ticklabels([])\n",
    "plt.savefig(\"/Users/sandesh/Desktop/dd_state_types.pdf\",dpi=300)"
   ]
  },
  {
   "cell_type": "code",
   "execution_count": null,
   "metadata": {
    "collapsed": true
   },
   "outputs": [],
   "source": []
  }
 ],
 "metadata": {
  "kernelspec": {
   "display_name": "Python 3",
   "language": "python",
   "name": "python3"
  },
  "language_info": {
   "codemirror_mode": {
    "name": "ipython",
    "version": 3
   },
   "file_extension": ".py",
   "mimetype": "text/x-python",
   "name": "python",
   "nbconvert_exporter": "python",
   "pygments_lexer": "ipython3",
   "version": "3.5.2"
  }
 },
 "nbformat": 4,
 "nbformat_minor": 2
}
