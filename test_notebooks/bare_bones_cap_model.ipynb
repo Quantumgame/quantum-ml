{
 "cells": [
  {
   "cell_type": "markdown",
   "metadata": {},
   "source": [
    "# Capacitance Model and Charge-Stability Diagrams\n",
    "\n",
    "This notebook deals with the simulation of a bare bones capacitance model for a N dot system. The capacitances are set before the simulation and are not calculated from an underlying theory.\n",
    "\n",
    "The basic goal of this notebook is to produce a honeycomb diagram for a double dot system.\n",
    "\n"
   ]
  },
  {
   "cell_type": "code",
   "execution_count": 1,
   "metadata": {},
   "outputs": [
    {
     "name": "stdout",
     "output_type": "stream",
     "text": [
      "Calculation finished in 405.64307713508606 seconds.\n"
     ]
    },
    {
     "data": {
      "text/plain": [
       "<matplotlib.text.Text at 0x10faed898>"
      ]
     },
     "execution_count": 1,
     "metadata": {},
     "output_type": "execute_result"
    },
    {
     "data": {
      "image/png": "[encoded data removed]",
      "text/plain": [
       "<matplotlib.figure.Figure at 0x10cfa9978>"
      ]
     },
     "metadata": {},
     "output_type": "display_data"
    },
    {
     "data": {
      "image/png": "[encoded data removed]",
      "text/plain": [
       "<matplotlib.figure.Figure at 0x10fab2be0>"
      ]
     },
     "metadata": {},
     "output_type": "display_data"
    }
   ],
   "source": [
    "import numpy as np\n",
    "import matplotlib.pyplot as plt\n",
    "%matplotlib inline\n",
    "import itertools\n",
    "\n",
    "# Number of dots in the system\n",
    "N_dot = 2\n",
    "\n",
    "# define the capacitances\n",
    "# the dot capacitance, assumed to be equal for all dots\n",
    "C_dot = 1\n",
    "# inter-dot cross capacitance, assumed to be equal for all dots\n",
    "C_dot_cross = -0.1\n",
    "\n",
    "# gate capacitance, assumed to equal for all gates\n",
    "C_g = 1.0\n",
    "C_g_cross = 0\n",
    "\n",
    "\n",
    "# The dots are assumed to be in a linear geometry. Hence, the cross capacitance acts only between adjacent dots.\n",
    "def calc_cap_matrix(N_dot,C_diag,C_cross):\n",
    "    C_mat = np.diag(C_diag*np.ones(N_dot),k = 0) + \\\n",
    "            np.diag(C_cross*np.ones(N_dot-1),k = 1) + \\\n",
    "            np.diag(C_cross*np.ones(N_dot-1),k = -1) \n",
    "    return C_mat\n",
    "\n",
    "C_mat_dot = calc_cap_matrix(N_dot,C_dot,C_dot_cross)\n",
    "C_mat_gate = calc_cap_matrix(N_dot,C_g,C_g_cross)\n",
    "\n",
    "# left to right tunnel rate, assumed to be same for both leads\n",
    "t_LR = 1.1\n",
    "# interdot tunnel rate, assumed to be same and equal in both directions\n",
    "t_in = 1.0\n",
    "# right to left tunnel rate, assumed to same for both leads\n",
    "t_RL = 1.0\n",
    "\n",
    "t_vec = np.array([t_LR,t_in,t_RL])\n",
    "\n",
    "def calc_U(N_vec,V_g_vec,C_mat_dot,C_mat_gate): \n",
    "    # -1.0 because electron charge is negative\n",
    "    Q_vec = -1.0 * N_vec + np.dot(C_mat_gate,V_g_vec) \n",
    "    \n",
    "    # We solve the linear system Q = C V, where V contains the unknown electrochemical potentials U\n",
    "    U_vec = np.linalg.solve(C_mat_dot,Q_vec)\n",
    "    \n",
    "    U = 0.5 * np.dot(U_vec,np.dot(C_mat_dot,U_vec.T))\n",
    "    return U\n",
    "\n",
    "def fermi(E,kT):\n",
    "    from scipy.special import expit\n",
    "    return expit(-E/kT) \n",
    "\n",
    "def calc_weight(a,b,V_g_vec,C_mat_dot,C_mat_gate,t_vec,kT):\n",
    "    N_dot = len(a)\n",
    "    \n",
    "    def neigh(a):\n",
    "        i = a[0]\n",
    "        j = a[1]\n",
    "        n = [[i+1,j],[i-1,j],[i-1,j+1],[i+1,j-1],[i,j+1],[i,j-1]]\n",
    "        return n\n",
    "    if list(b) in neigh(a):\n",
    "        U_a = calc_U(np.array(a),V_g_vec,C_mat_dot,C_mat_gate)\n",
    "        U_b = calc_U(np.array(b),V_g_vec,C_mat_dot,C_mat_gate)\n",
    "        # notice the order, calc_weight calculates the weight to go from a to b\n",
    "       \n",
    "        diff = list(np.array(a) - np.array(b))\n",
    "        if diff == [-1,0]:\n",
    "            t = t_vec[0]\n",
    "        elif diff == [0,1]:\n",
    "            t = t_vec[0] \n",
    "        elif diff == [1,0]:\n",
    "            t = t_vec[2] \n",
    "        elif diff == [0,-1]:\n",
    "            t = t_vec[2] \n",
    "        else:\n",
    "            t = t_vec[1] \n",
    "        return t*fermi(U_b - U_a,kT)\n",
    "    else:\n",
    "        return 0.0\n",
    "\n",
    "def calc_charge(N_dot,V_g_vec,C_mat_dot,C_mat_gate,kT):\n",
    "   \n",
    "    E_max = 6\n",
    "    # create the array with all possible electronic states on dots\n",
    "    states = list(itertools.product(*[list(range(E_max))]*N_dot)) \n",
    "    \n",
    "    # A : adjacency matrix between the possible states, two states are connected only by a single electron tunneling event\n",
    "    A = np.array([calc_weight(a,b,V_g_vec,C_mat_dot,C_mat_gate,t_vec,kT) for a in states for b in states])\\\n",
    "        .reshape((len(states),len(states)))\n",
    "\n",
    "    M = A.T - np.diag(np.sum(A,axis=1))\n",
    "    \n",
    "    # append the normalisation condition, and drop ones of the rows of M\n",
    "    M_solver = np.append(M[:-1,:],[np.ones(M.shape[0])]).reshape(M.shape)\n",
    "\n",
    "    # RHS in the master equation solution, the last element is the prob. normalisation condition\n",
    "    b = np.zeros(M.shape[0])\n",
    "    b[-1] = 1\n",
    "    P = np.linalg.solve(M_solver,b)\n",
    "    #state = states[np.argmax(P)]\n",
    "    \n",
    "    state = np.sum(np.array([x*np.array(y) for (x,y) in zip(P,states)]),axis=0)\n",
    "   \n",
    "    current = 0\n",
    "    for x in states:\n",
    "        for y in states:\n",
    "            if list(np.array(x) - np.array(y)) == [-1,0]:\n",
    "                index_x = states.index(x)\n",
    "                index_y = states.index(y)\n",
    "                current += P[index_x] * A[index_x,index_y] \n",
    "            elif list(np.array(x) - np.array(y)) == [1,0]:\n",
    "                index_x = states.index(x)\n",
    "                index_y = states.index(y)\n",
    "                current += -1.0*P[index_x] * A[index_x,index_y] \n",
    "            else:\n",
    "                current += 0.0\n",
    "    return state,current\n",
    "\n",
    "kT = 1e-2\n",
    "N_v = 100\n",
    "V_g_vec = np.linspace(0,3,N_v)\n",
    "V_g_arr = list(itertools.product(*[list(V_g_vec)]*N_dot))\n",
    "\n",
    "import time\n",
    "st = time.time()\n",
    "charge = [calc_charge(N_dot,x,C_mat_dot,C_mat_gate,kT) for x in V_g_arr]\n",
    "print(\"Calculation finished in\",time.time()-st,\"seconds.\")\n",
    "\n",
    "# specific to 2 dot\n",
    "XX,YY = np.meshgrid(V_g_vec,V_g_vec)\n",
    "plt.figure(1)\n",
    "plt.pcolor(XX,YY,np.array([np.sum(x[0]) for x in charge]).reshape(N_v,N_v))\n",
    "plt.xlabel(r\"$V_{g1}$\",fontsize=16)\n",
    "plt.ylabel(r\"$V_{g2}$\",fontsize=16)\n",
    "plt.title(\"Charge Stability Diagram\")\n",
    "plt.figure(2)\n",
    "plt.pcolor(XX,YY,np.array([np.sum(x[1]) for x in charge]).reshape(N_v,N_v))\n",
    "plt.xlabel(r\"$V_{g1}$\",fontsize=16)\n",
    "plt.ylabel(r\"$V_{g2}$\",fontsize=16)\n",
    "plt.title(\"Current\")"
   ]
  },
  {
   "cell_type": "code",
   "execution_count": 24,
   "metadata": {},
   "outputs": [
    {
     "data": {
      "text/plain": [
       "<matplotlib.collections.PolyCollection at 0x116bd5160>"
      ]
     },
     "execution_count": 24,
     "metadata": {},
     "output_type": "execute_result"
    },
    {
     "data": {
      "image/png": "[encoded data removed]",
      "text/plain": [
       "<matplotlib.figure.Figure at 0x11622b9e8>"
      ]
     },
     "metadata": {},
     "output_type": "display_data"
    },
    {
     "data": {
      "image/png": "[encoded data removed]",
      "text/plain": [
       "<matplotlib.figure.Figure at 0x116b33c88>"
      ]
     },
     "metadata": {},
     "output_type": "display_data"
    }
   ],
   "source": [
    "curr_mat = np.array([np.sum(x[1]) for x in charge]).reshape(N_v,N_v)\n",
    "plt.figure(1)\n",
    "plt.pcolor(XX,YY,np.abs(np.array([np.sum(x[1]) for x in charge])).reshape(N_v,N_v))\n",
    "plt.xlabel(r\"$V_{g1}$\",fontsize=16)\n",
    "plt.ylabel(r\"$V_{g2}$\",fontsize=16)\n",
    "plt.title(\"Current\")\n",
    "plt.colorbar()\n",
    "\n",
    "\n",
    "plt.figure(2)\n",
    "plt.pcolor(np.gradient(curr_mat)[0])"
   ]
  },
  {
   "cell_type": "code",
   "execution_count": null,
   "metadata": {
    "collapsed": true
   },
   "outputs": [],
   "source": [
    "np.gradient(curr_mat)"
   ]
  },
  {
   "cell_type": "code",
   "execution_count": null,
   "metadata": {
    "collapsed": true
   },
   "outputs": [],
   "source": [
    "curr_mat"
   ]
  },
  {
   "cell_type": "code",
   "execution_count": null,
   "metadata": {
    "collapsed": true
   },
   "outputs": [],
   "source": [
    "curr_mat.shape\n"
   ]
  },
  {
   "cell_type": "code",
   "execution_count": 9,
   "metadata": {},
   "outputs": [
    {
     "data": {
      "text/plain": [
       "1.3727347239147406e-15"
      ]
     },
     "execution_count": 9,
     "metadata": {},
     "output_type": "execute_result"
    }
   ],
   "source": [
    "curr_mat.max()"
   ]
  },
  {
   "cell_type": "code",
   "execution_count": null,
   "metadata": {
    "collapsed": true
   },
   "outputs": [],
   "source": []
  }
 ],
 "metadata": {
  "kernelspec": {
   "display_name": "Python 3",
   "language": "python",
   "name": "python3"
  },
  "language_info": {
   "codemirror_mode": {
    "name": "ipython",
    "version": 3
   },
   "file_extension": ".py",
   "mimetype": "text/x-python",
   "name": "python",
   "nbconvert_exporter": "python",
   "pygments_lexer": "ipython3",
   "version": "3.5.2"
  }
 },
 "nbformat": 4,
 "nbformat_minor": 2
}
