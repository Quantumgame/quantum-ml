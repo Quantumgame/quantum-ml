{
 "cells": [
  {
   "cell_type": "markdown",
   "metadata": {
    "scrolled": true
   },
   "source": [
    "# New Thomas-Fermi Calculations\n",
    "\n",
    "A new approach to calculate the electron density is presented using the integral of the Fermi function in energy from the bottom of the conduction band to $\\infinity$.\n",
    "\n"
   ]
  },
  {
   "cell_type": "code",
   "execution_count": 183,
   "metadata": {
    "collapsed": true
   },
   "outputs": [],
   "source": [
    "# ThomasFermi class for electron density calculations\n",
    "\n",
    "import mpmath\n",
    "import numpy as np\n",
    "\n",
    "class ThomasFermi():\n",
    "    '''\n",
    "    Thomas-Fermi routines based on the polylog function approach.\n",
    "    '''\n",
    "    def __init__(self,physics):\n",
    "        '''\n",
    "        physics is a dict with the revelant physics\n",
    "        \n",
    "        x : linspace\n",
    "        V_x : potential profile\n",
    "        K_0 : strength of the Coulomb interaction\n",
    "        mu : chemical potential (assumed to be equal for both leads)\n",
    "        '''\n",
    "       \n",
    "        self.physics = physics\n",
    "        self.K_mat = self.calc_K_mat()\n",
    "\n",
    "    def calc_K_mat(self):\n",
    "        x = self.physics['x']\n",
    "        K_0 = self.physics['K_0']\n",
    "        \n",
    "        dx = np.sqrt((x - x[:,np.newaxis])**2 + 1)\n",
    "        return K_0/dx\n",
    "\n",
    "    def calc_n(self):\n",
    "        V = self.physics['V_x']\n",
    "        K_mat = self.K_mat\n",
    "        \n",
    "        def f(x):\n",
    "            np_polylog = np.frompyfunc(mpmath.polylog, 2, 1)\n",
    "            output = -1e-2*np_polylog(1,-np.exp(50*x))\n",
    "            # cast from mpc array to numpy array\n",
    "            return np.array(list(map(lambda x : complex(x),output)))\n",
    "        \n",
    "        n = np.zeros(len(V))\n",
    "        n_prev = np.zeros(len(V))\n",
    "        phi = np.zeros(len(V))\n",
    "        for i in range(200):\n",
    "            # turn on the Coulomb over 10 steps\n",
    "            if i < 10:\n",
    "                phi = (i/10) * np.dot(K_mat,n)\n",
    "            n_prev = n\n",
    "            n = f(mu - V - phi)\n",
    "\n",
    "            if (i > 10) and (np.linalg.norm(n - n_prev)**2 < (1e-12) * np.linalg.norm(n) * np.linalg.norm(n_prev)):\n",
    "                #print(\"Done in\",i)\n",
    "                break;\n",
    "        self.n = np.real(n)\n",
    "        return self.n\n",
    "\n",
    "    def calc_islands(self):\n",
    "      \n",
    "        n = self.n\n",
    "        # adaptive eps makes the calculation more robust \n",
    "        n_eps = 1e-1*np.max(n)\n",
    "        \n",
    "        n_chop = np.array([x if x > n_eps else 0.0 for x in n])\n",
    "        islands = {}\n",
    "        start = False\n",
    "        islands_index = 0\n",
    "        left = 0\n",
    "        for i in range(len(n_chop)):\n",
    "            if(n_chop[i] > 0.0 and not start):\n",
    "                start = True\n",
    "                left = i\n",
    "            if(n_chop[i] == 0.0 and start):\n",
    "                start = False\n",
    "                islands[islands_index] = [left,i - 1]\n",
    "                islands_index += 1\n",
    "            if((i == (len(n_chop) - 1)) and start):\n",
    "                start = False\n",
    "                islands[islands_index] = [left,i]\n",
    "                islands_index += 1\n",
    "        \n",
    "        # ignore the leads\n",
    "        try:\n",
    "            lead1 = 0\n",
    "            lead2 = len(islands) - 1\n",
    "            islands.pop(lead1)\n",
    "            islands.pop(lead2)\n",
    "            self.islands = islands \n",
    "        except KeyError as e:\n",
    "            raise e\n",
    "        \n",
    "        return self.islands\n",
    "\n",
    "    def calc_charges(self):\n",
    "        n = self.n\n",
    "        islands = self.islands\n",
    "        \n",
    "        charges = []\n",
    "        for key,item in islands.items():\n",
    "            charges.append(np.sum(n[item[0]:item[1]]))\n",
    "\n",
    "        return charges\n",
    "\n",
    "    def calc_cap_model(self):\n",
    "        islands = self.islands\n",
    "        n = self.n\n",
    "\n",
    "        # list of charge densities for islands\n",
    "        n_list = []\n",
    "        for key,item in islands.items():\n",
    "            n_island = np.zeros(len(n))\n",
    "            n_island[item[0]:item[1]] = n[item[0]:item[1]] \n",
    "            n_list.append(n_island)\n",
    "\n",
    "        def cap_func(i,j):\n",
    "            energy = 0.0\n",
    "            if i == j:\n",
    "                energy += np.sum(n_list[i]*n_list[i])\n",
    "\n",
    "            energy += np.dot(np.dot(n_list[i].T,self.K_mat),n_list[j])\n",
    "            return energy\n",
    "\n",
    "        cap_matrix = np.array([cap_func(i,j) for i in range(len(n_list)) for j in range(len(n_list))])\\\n",
    "        .reshape((len(n_list),len(n_list)))\n",
    "\n",
    "        Z = self.calc_charges()\n",
    "        \n",
    "        cap_model = (Z,cap_matrix)\n",
    "        self.cap_model = cap_model\n",
    "        \n",
    "        return self.cap_model \n",
    "\n",
    "    def calc_cap_energy(self,N_vec):\n",
    "        N_vec = np.array(N_vec)\n",
    "        cap_model = self.cap_model\n",
    "        return np.dot(np.dot((N_vec-cap_model[0]),cap_model[1]),(N_vec-cap_model[0]).T)\n",
    "\n",
    "    def calc_stable_charge_config(self):\n",
    "        '''\n",
    "        Full routine\n",
    "        \n",
    "        '''\n",
    "        self.calc_n()\n",
    "        self.calc_islands()\n",
    "        self.calc_cap_model()\n",
    "        \n",
    "        (Z,cap_matrix) = self.cap_model \n",
    "\n",
    "        N_int = [int(x) for x in Z]\n",
    "        dN_list = [range(x-1,x+1,1) for x in N_int] \n",
    "        import itertools\n",
    "        N_list = list(itertools.product(*dN_list))\n",
    "\n",
    "        energy_table = [self.calc_cap_energy(np.array(x)) for x in N_list]\n",
    "        min_energy = min(energy_table)\n",
    "        charge_configuration = N_list[energy_table.index(min_energy)]\n",
    "        self.charge_configuration = np.array(charge_configuration)\n",
    "\n",
    "        return self.charge_configuration\n"
   ]
  },
  {
   "cell_type": "code",
   "execution_count": 247,
   "metadata": {
    "collapsed": true
   },
   "outputs": [],
   "source": [
    "# graph routines\n",
    "import sys\n",
    "sys.path.append(\"/Users/sandesh/repos/quantum-ml/nanowire_model/\")\n",
    "\n",
    "import numpy as np\n",
    "import queue\n",
    "import networkx as nx\n",
    "from scipy.special import expit\n",
    "import scipy.integrate\n",
    "\n",
    "import rank_nullspace\n",
    "\n",
    "class Markov():\n",
    "    '''\n",
    "    Class Markov is used for graph creation and calculation of currents.\n",
    "    '''\n",
    "    \n",
    "    def __init__(self,graph_model,physics):\n",
    "        self.graph_model = graph_model\n",
    "        self.tf = ThomasFermi(physics)\n",
    "        \n",
    "        # include the leads as well\n",
    "        self.start_node = tuple([0] + list(self.tf.calc_stable_charge_config()) + [0])\n",
    "        \n",
    "    def check_validity(self,u):\n",
    "        '''\n",
    "        Input:\n",
    "            u : node to check validity of\n",
    "\n",
    "        Output:\n",
    "            True/False\n",
    "\n",
    "        0 : Whether the physics can support such a charge state\n",
    "        False if InvalidChargeException is raised.\n",
    "        Constraints:\n",
    "        1. 0 <= abs(N_D - start_node) <= p\n",
    "        2. abs(N_L-N_R) <= q\n",
    "        3. N_L + N_D + N_R = sum(start_node)\n",
    "        4. N_D >= 0\n",
    "        '''\n",
    "        (p,q) = self.graph_model\n",
    "\n",
    "        N_d = u[1:-1]\n",
    "        \n",
    "        cond1 = True\n",
    "        cond4 = True \n",
    "        num_dots = len(u) - 2\n",
    "        for i in range(1,num_dots+1):\n",
    "            cond1 = cond1 and (np.abs(u[i] - self.start_node[i]) <= p)\n",
    "            cond4 = cond4 and (u[i] >= 0)\n",
    "\n",
    "        cond2 = (abs(u[0] - u[-1]) <= q)\n",
    "\n",
    "        cond3 = (np.sum(u) == np.sum(np.array(self.start_node)))\n",
    "\n",
    "        return (cond1 and cond2 and cond3 and cond4)\n",
    "\n",
    "    def generate_neighbours(self,v):\n",
    "        '''\n",
    "        Input:\n",
    "            v : node to find neighbours of\n",
    "        Output:\n",
    "            valid : valid set of neighbours v in the graph\n",
    "\n",
    "            Takes in a num_dot + 2 charge state (N_L,vec N_D,N_R) model and generates neighbours in the validity of model=(p,q)\n",
    "            Constraints:\n",
    "            1. 0 <= abs(N_D - start_node) <= p\n",
    "            2. abs(N_L-N_R) <= q\n",
    "            3. N_L + N_D + N_R = sum(start_node)\n",
    "        '''\n",
    "        (p,q) = self.graph_model\n",
    "        neigh = []\n",
    "        num_dots = len(v) - 2 \n",
    "\n",
    "        # handling the single barrier case\n",
    "        if num_dots == 0:\n",
    "            # in this case, v = (0,1) or (1,0)\n",
    "            # so the only other case is given by reverse of v\n",
    "            neigh.append(v[::-1])\n",
    "            return neigh\n",
    "\n",
    "        for i in range(1,num_dots+1):\n",
    "            # 4 possible neighbours of each change in dot charge state, ld,l,rd,r \n",
    "            # the nomenclature stems from d : dagger, so ld denotes create an electron in the left and so on\n",
    "\n",
    "            # typecasting between arrays and tuples involved here, since the nodes are stored as tuples, whereas tuples do not support item assignment\n",
    "            ld = np.array(v)\n",
    "            l = np.array(v)\n",
    "            rd = np.array(v)\n",
    "            r = np.array(v)\n",
    "\n",
    "            ld[i - 1] += 1\n",
    "            ld[i] += -1 \n",
    "            neigh.append(tuple(ld))\n",
    "\n",
    "            l[i - 1] += -1\n",
    "            l[i] += 1 \n",
    "            neigh.append(tuple(l))\n",
    "\n",
    "            rd[i + 1] += 1\n",
    "            rd[i] += -1 \n",
    "            neigh.append(tuple(rd))\n",
    "\n",
    "            r[i + 1] += -1\n",
    "            r[i] += 1 \n",
    "            neigh.append(tuple(r))\n",
    "\n",
    "        valid = set([x for x in neigh if self.check_validity(x)])   \n",
    "        return valid\n",
    "\n",
    "    def fermi(self,E,kT):\n",
    "        '''\n",
    "        Input:\n",
    "            E : energy (eV)\n",
    "            kT : temp in eV\n",
    "\n",
    "        Output:\n",
    "            fermi_function\n",
    "        '''\n",
    "        return expit(-E/kT)\n",
    "\n",
    "\n",
    "    def find_weight(self,u,v):\n",
    "        '''\n",
    "        Input:\n",
    "            u : start node\n",
    "            v : end node\n",
    "\n",
    "        Output:\n",
    "            weight : weight of edge from u to v\n",
    "        '''\n",
    "        N_dot_1 = u[1:-1] \n",
    "        E_1 = self.tf.calc_cap_energy(N_dot_1)\n",
    "        N_dot_2 = v[1:-1] \n",
    "        E_2 = self.tf.calc_cap_energy(N_dot_2)\n",
    "        # change in number of electrons on the lead\n",
    "        diff_lead0 = v[0] - u[0] \n",
    "        diff_lead1 = v[-1] - u[-1]\n",
    "        \n",
    "        mu = self.tf.physics['mu']\n",
    "        kT = self.tf.physics['kT']\n",
    "        simple_prob = self.fermi(E_2 - E_1 + 0.0*diff_lead0*mu + 0.0*diff_lead1*mu,kT)\n",
    "\n",
    "        weight = simple_prob\n",
    "        return weight\n",
    "\n",
    "    def add_battery_edges(self):\n",
    "        battery_weight = 10\n",
    "        \n",
    "        # add an arbitary bias\n",
    "        #cond1 = (mu_l1 < mu_l2)\n",
    "        cond1 = True\n",
    "        for u in list(self.G.nodes()):\n",
    "            for v in list(self.G.nodes()):\n",
    "                # not a battery edge since number on dot changes\n",
    "                if u[1:-1] != v[1:-1]:\n",
    "                    pass\n",
    "                # electron passes from left to right\n",
    "                elif cond1:\n",
    "                    if u[0] > v[0]:\n",
    "                        self.G.add_edge(u,v,weight=battery_weight)\n",
    "                        nx.set_edge_attributes(self.G,'battery_edge',{(u,v) : True})\n",
    "                        nx.set_node_attributes(self.G,'battery_node',{u : True})\n",
    "                # electron passes from right to left\n",
    "                else:\n",
    "                    if u[0] < v[0]:\n",
    "                        self.G.add_edge(u,v,weight=battery_weight)\n",
    "                        nx.set_edge_attributes(self.G,'battery_edge',{(u,v) : True})\n",
    "                        nx.set_node_attributes(self.G,'battery_node',{u : True})\n",
    "\n",
    "\n",
    "    def get_battery_nodes(self):\n",
    "        '''\n",
    "        Input:\n",
    "        Output:\n",
    "            battery_ind : list of battery nodes\n",
    "        '''\n",
    "        # battery\n",
    "        # TODO: Find a better way to find the indices for the battery edges\n",
    "        battery_nodes = nx.get_node_attributes(self.G,'battery_node')\n",
    "        nodes = list(self.G.nodes())\n",
    "        battery_ind = []\n",
    "        # find the keys of the battery nodes\n",
    "        for key in battery_nodes:\n",
    "            battery_ind += [nodes.index(key)]\n",
    "\n",
    "        self.battery_ind = battery_ind\n",
    "        \n",
    "    def generate_graph(self):\n",
    "        '''\n",
    "        Input:\n",
    "        Output:\n",
    "            G : Markov graph of the charge states, weights assigned to edges using the energy method at zero bias, battery edges are added according to the battery weight paramter in physics input\n",
    "\n",
    "        '''\n",
    "        # queue used for BFS generation of the graph\n",
    "        Q = queue.Queue()\n",
    "        self.G = nx.DiGraph() \n",
    "\n",
    "        Q.put(self.start_node)\n",
    "        while not Q.empty():\n",
    "            v = Q.get()\n",
    "            self.G.add_node(v)\n",
    "            neigh = self.generate_neighbours(v)\n",
    "            for n in neigh:\n",
    "                # non-optimal: TODO: find a better strategy\n",
    "                if n not in list(self.G.nodes()):\n",
    "                    Q.put(n)\n",
    "                    self.G.add_node(n)\n",
    "\n",
    "                # Catch here : Put in the weight even if node exists, because weights might not be added\n",
    "                # put in weight information\n",
    "                # finally, Physics, Yay!\n",
    "                self.G.add_edge(v,n,weight=self.find_weight(v,n))\n",
    "                nx.set_edge_attributes(self.G,'battery_edge',{(v,n) : False})\n",
    "                self.G.add_edge(n,v,weight=self.find_weight(n,v))\n",
    "                nx.set_edge_attributes(self.G,'battery_edge',{(n,v) : False})\n",
    "\n",
    "        self.add_battery_edges()\n",
    "        self.get_battery_nodes()\n",
    "\n",
    "        # get the stable prob distribution\n",
    "        self.get_prob_dist()\n",
    "\n",
    "    def get_prob_dist(self):\n",
    "        '''\n",
    "        Output:\n",
    "            dist : prob normalised nullspace vector of M\n",
    "        '''\n",
    "        # Adjacency matrix, caution not the Markov matrix\n",
    "        A = np.array(nx.to_numpy_matrix(self.G))\n",
    "        \n",
    "        # look at this carefully\n",
    "        M =  A.T - np.diag(np.sum(A,axis=1))\n",
    "\n",
    "        #try:\n",
    "        #    # take only one vector from the nullspace, A.shape[0] ensures this\n",
    "        #    nullspace = np.array(rank_nullspace.nullspace(M,rtol=1e-12,atol=1e-12)).flatten()[:A.shape[0]] \n",
    "        #    if (nullspace.shape[0] > 0):\n",
    "        #        #non-trivial nullspace exists for M\n",
    "        #        # dist is prob distribution\n",
    "        #        eps = np.max(nullspace)*1e-10\n",
    "        #        chop_null = np.array([x if x > eps else 0 for x in list(nullspace)])\n",
    "        #                         \n",
    "        #        #self.dist = nullspace[:,0]/nullspace[:,0].sum(axis=0)\n",
    "        #        self.dist = chop_null/np.sum(chop_null)\n",
    "        #    else:\n",
    "        #        #nullspace is trivial, in this case there is no stable prob. distribution,\n",
    "        #        #In case raised, try changing the rtol parameter\n",
    "        #        raise ValueError('Nullspace of Markov matrix is trivial. No probability distribution exists')\n",
    "        #except (ValueError,np.linalg.LinAlgError) as e:\n",
    "        #    print(\"Abort! Nullspace failed\")\n",
    "       \n",
    "        # new approach to find the normalised probability distribution, rows of M are linearly dependent, \n",
    "        # instead replace last row with a prob normalisation condition\n",
    "        M_solver = np.append(M[:-1,:],[np.ones(M.shape[0])]).reshape(M.shape) \n",
    "        b = np.zeros(M.shape[0])\n",
    "        b[-1] = 1\n",
    "        \n",
    "        self.dist = np.linalg.lstsq(M_solver,b)[0]\n",
    "            \n",
    "        return self.dist\n",
    "\n",
    "    def calc_current(self):\n",
    "        '''\n",
    "        Input:\n",
    "        Output:\n",
    "            current : current \n",
    "\n",
    "        The basic idea is to create a Markov evolution matrix from the weights. The stable probability distribution is given as the nullspace of this matrix.\n",
    "\n",
    "        The current is calculated by summing over the probabilities at the beginning of the battery edges.\n",
    "        '''\n",
    "\n",
    "\n",
    "        # calculate the current by summing over the probabities over the battery nodes \n",
    "        current = 0\n",
    "        for b_ind in self.battery_ind:\n",
    "            #current += self.dist[b_ind,0]\n",
    "            current += self.dist[b_ind]\n",
    "\n",
    "        return current\n",
    "\n",
    "    def calc_charge_state(self):\n",
    "        '''\n",
    "        Output:\n",
    "            Node with highest occupation probability\n",
    "        '''\n",
    "        nodes = list(self.G.nodes())\n",
    "        #max_prob_index = np.argmax(self.dist)\n",
    "        # remove the leads\n",
    "        #state = nodes[max_prob_index][1:-1]\n",
    "        \n",
    "        # using the average charge strategy\n",
    "        state = np.sum(np.array([x*np.array(y) for (x,y) in zip(self.dist,nodes)]),axis=0)[1:-1]\n",
    "        return state\n"
   ]
  },
  {
   "cell_type": "code",
   "execution_count": 258,
   "metadata": {},
   "outputs": [
    {
     "name": "stdout",
     "output_type": "stream",
     "text": [
      "Time 0.12897181510925293\n",
      "[6]\n",
      "[6.4142585141756356]\n",
      "([6.4142585141756356], array([[ 3.38862703]]))\n"
     ]
    },
    {
     "data": {
      "image/png": "[encoded data removed]",
      "text/plain": [
       "<matplotlib.figure.Figure at 0x10d3bdb38>"
      ]
     },
     "metadata": {},
     "output_type": "display_data"
    },
    {
     "data": {
      "image/png": "[encoded data removed]",
      "text/plain": [
       "<matplotlib.figure.Figure at 0x10d8f4f98>"
      ]
     },
     "metadata": {},
     "output_type": "display_data"
    }
   ],
   "source": [
    "# calculation of the electron density for a single set of gate voltages\n",
    "import sys\n",
    "import time\n",
    "import matplotlib.pyplot as plt\n",
    "%matplotlib inline\n",
    "\n",
    "sys.path.append(\"/Users/sandesh/repos/quantum-ml/nanowire_model/\")\n",
    "\n",
    "import potential_profile\n",
    "\n",
    "x = np.linspace(-2,2,100)\n",
    "K_0 = 0.5e-1\n",
    "\n",
    "def find_V(x,list_b):\n",
    "    V = potential_profile.V_x_wire(x,list_b) #+ 100e-3*x**2\n",
    "    return V\n",
    "\n",
    "# gate voltages\n",
    "V_0 = 350e-3\n",
    "V_1 = 350e-3\n",
    "def_gates = [[-300e-3,0.0,0.1,1],[-300e-3,-0.7,0.1,1],[-300e-3,0.7,0.1,1]]\n",
    "list_b = def_gates + [[V_0,-0.4,0.1,1],[V_1,0.4,0.1,1]] \n",
    "V_x = find_V(x,list_b)\n",
    "plt.figure(1)\n",
    "plt.plot(x,V_x)\n",
    "\n",
    "mu = 1.0   \n",
    "\n",
    "physics = {'x' : x,\n",
    "           'K_0' : K_0,\n",
    "           'V_x' : V_x,\n",
    "           'mu'  : mu,\n",
    "           'kT'  : 1e-4\n",
    "}\n",
    "\n",
    "st = time.time()\n",
    "tf = ThomasFermi(physics) \n",
    "config = tf.calc_stable_charge_config()\n",
    "print(\"Time\",time.time()-st)\n",
    "\n",
    "print(config)\n",
    "plt.figure(2)\n",
    "plt.plot(x,tf.n)\n",
    "print(tf.calc_charges())\n",
    "\n",
    "print(tf.cap_model)\n"
   ]
  },
  {
   "cell_type": "code",
   "execution_count": 239,
   "metadata": {},
   "outputs": [
    {
     "name": "stdout",
     "output_type": "stream",
     "text": [
      "Time 70.14452791213989\n"
     ]
    },
    {
     "data": {
      "text/plain": [
       "<matplotlib.collections.PolyCollection at 0x10ccdce48>"
      ]
     },
     "execution_count": 239,
     "metadata": {},
     "output_type": "execute_result"
    },
    {
     "data": {
      "image/png": "[encoded data removed]",
      "text/plain": [
       "<matplotlib.figure.Figure at 0x10d272860>"
      ]
     },
     "metadata": {},
     "output_type": "display_data"
    }
   ],
   "source": [
    "import sys\n",
    "import time\n",
    "sys.path.append(\"/Users/sandesh/repos/quantum-ml/nanowire_model/\")\n",
    "\n",
    "import potential_profile\n",
    "\n",
    "N_v = 25\n",
    "Vd1_vec = np.linspace(600e-3,800e-3,N_v)\n",
    "Vd2_vec = np.linspace(600e-3,800e-3,N_v)\n",
    "# list_list_b is a list of the possible set of gate voltages which is later converted into a potential profile\n",
    "list_list_b = [def_gates + [[x,-0.2,0.1,1],[y,0.2,0.1,1]] for x in Vd1_vec for y in Vd2_vec]\n",
    "\n",
    "st = time.time()\n",
    "tf = ThomasFermi(physics) \n",
    "def wrapper(V_x):\n",
    "    tf.physics['V_x'] = V_x\n",
    "    try:\n",
    "        config = tf.calc_stable_charge_config()\n",
    "    #short circuit condition\n",
    "    except KeyError as e: \n",
    "        config = (0)\n",
    "    return config\n",
    "\n",
    "charge_config = [wrapper(find_V(x,y)) for y in list_list_b]\n",
    "print(\"Time\",time.time()-st)\n",
    "plt.pcolor(np.array([np.sum(x) for x in charge_config]).reshape((N_v,N_v)))"
   ]
  },
  {
   "cell_type": "code",
   "execution_count": 248,
   "metadata": {},
   "outputs": [
    {
     "name": "stdout",
     "output_type": "stream",
     "text": [
      "Time 298.1705949306488\n"
     ]
    }
   ],
   "source": [
    "# current calulation\n",
    "N_v = 50\n",
    "Vd1_vec = np.linspace(600e-3,800e-3,N_v)\n",
    "Vd2_vec = np.linspace(600e-3,800e-3,N_v)\n",
    "# list_list_b is a list of the possible set of gate voltages which is later converted into a potential profile\n",
    "list_list_b = [def_gates + [[x,-0.4,0.1,1],[y,0.4,0.1,1]] for x in Vd1_vec for y in Vd2_vec]\n",
    "\n",
    "st = time.time()\n",
    "graph_model = (1,1)\n",
    "def wrapper_curr(V_x):\n",
    "    physics['V_x'] = V_x\n",
    "    try:\n",
    "        markov = Markov(graph_model,physics) \n",
    "        markov.generate_graph()\n",
    "        curr = markov.calc_current()\n",
    "        charge = markov.calc_charge_state()\n",
    "        del markov\n",
    "    except KeyError as e:\n",
    "        curr = 0\n",
    "        charge = [0]\n",
    "    return  curr,charge\n",
    "\n",
    "current = [wrapper_curr(find_V(x,y)) for y in list_list_b]\n",
    "print(\"Time\",time.time()-st)\n",
    "\n"
   ]
  },
  {
   "cell_type": "code",
   "execution_count": 249,
   "metadata": {},
   "outputs": [
    {
     "data": {
      "text/plain": [
       "<matplotlib.collections.PolyCollection at 0x10c93e080>"
      ]
     },
     "execution_count": 249,
     "metadata": {},
     "output_type": "execute_result"
    },
    {
     "data": {
      "image/png": "[encoded data removed]",
      "text/plain": [
       "<matplotlib.figure.Figure at 0x10acc7b38>"
      ]
     },
     "metadata": {},
     "output_type": "display_data"
    },
    {
     "data": {
      "image/png": "[encoded data removed]",
      "text/plain": [
       "<matplotlib.figure.Figure at 0x10c8635c0>"
      ]
     },
     "metadata": {},
     "output_type": "display_data"
    }
   ],
   "source": [
    "plt.figure(1)\n",
    "plt.pcolor(np.array([np.sum(x[0]) for x in current]).reshape((N_v,N_v)),vmax=1e-7)\n",
    "plt.figure(2)\n",
    "plt.pcolor(np.array([np.sum(x[1]) for x in current]).reshape((N_v,N_v)))"
   ]
  },
  {
   "cell_type": "code",
   "execution_count": 244,
   "metadata": {},
   "outputs": [
    {
     "name": "stdout",
     "output_type": "stream",
     "text": [
      "Automatic pdb calling has been turned ON\n"
     ]
    }
   ],
   "source": [
    "%pdb\n"
   ]
  },
  {
   "cell_type": "code",
   "execution_count": 128,
   "metadata": {},
   "outputs": [
    {
     "ename": "KeyError",
     "evalue": "0",
     "output_type": "error",
     "traceback": [
      "\u001b[0;31m---------------------------------------------------------------------------\u001b[0m",
      "\u001b[0;31mKeyError\u001b[0m                                  Traceback (most recent call last)",
      "\u001b[0;32m<ipython-input-128-db13db68d276>\u001b[0m in \u001b[0;36m<module>\u001b[0;34m()\u001b[0m\n\u001b[1;32m     29\u001b[0m \u001b[0mst\u001b[0m \u001b[0;34m=\u001b[0m \u001b[0mtime\u001b[0m\u001b[0;34m.\u001b[0m\u001b[0mtime\u001b[0m\u001b[0;34m(\u001b[0m\u001b[0;34m)\u001b[0m\u001b[0;34m\u001b[0m\u001b[0m\n\u001b[1;32m     30\u001b[0m \u001b[0mtf\u001b[0m \u001b[0;34m=\u001b[0m \u001b[0mThomasFermi\u001b[0m\u001b[0;34m(\u001b[0m\u001b[0mphysics\u001b[0m\u001b[0;34m)\u001b[0m\u001b[0;34m\u001b[0m\u001b[0m\n\u001b[0;32m---> 31\u001b[0;31m \u001b[0mconfig\u001b[0m \u001b[0;34m=\u001b[0m \u001b[0mtf\u001b[0m\u001b[0;34m.\u001b[0m\u001b[0mcalc_stable_charge_config\u001b[0m\u001b[0;34m(\u001b[0m\u001b[0;34m)\u001b[0m\u001b[0;34m\u001b[0m\u001b[0m\n\u001b[0m\u001b[1;32m     32\u001b[0m \u001b[0mprint\u001b[0m\u001b[0;34m(\u001b[0m\u001b[0;34m\"Time\"\u001b[0m\u001b[0;34m,\u001b[0m\u001b[0mtime\u001b[0m\u001b[0;34m.\u001b[0m\u001b[0mtime\u001b[0m\u001b[0;34m(\u001b[0m\u001b[0;34m)\u001b[0m\u001b[0;34m-\u001b[0m\u001b[0mst\u001b[0m\u001b[0;34m)\u001b[0m\u001b[0;34m\u001b[0m\u001b[0m\n\u001b[1;32m     33\u001b[0m \u001b[0;34m\u001b[0m\u001b[0m\n",
      "\u001b[0;32m<ipython-input-104-8f19669462cb>\u001b[0m in \u001b[0;36mcalc_stable_charge_config\u001b[0;34m(self)\u001b[0m\n\u001b[1;32m    136\u001b[0m         '''\n\u001b[1;32m    137\u001b[0m         \u001b[0mself\u001b[0m\u001b[0;34m.\u001b[0m\u001b[0mcalc_n\u001b[0m\u001b[0;34m(\u001b[0m\u001b[0;34m)\u001b[0m\u001b[0;34m\u001b[0m\u001b[0m\n\u001b[0;32m--> 138\u001b[0;31m         \u001b[0mself\u001b[0m\u001b[0;34m.\u001b[0m\u001b[0mcalc_islands\u001b[0m\u001b[0;34m(\u001b[0m\u001b[0;34m)\u001b[0m\u001b[0;34m\u001b[0m\u001b[0m\n\u001b[0m\u001b[1;32m    139\u001b[0m         \u001b[0mself\u001b[0m\u001b[0;34m.\u001b[0m\u001b[0mcalc_cap_model\u001b[0m\u001b[0;34m(\u001b[0m\u001b[0;34m)\u001b[0m\u001b[0;34m\u001b[0m\u001b[0m\n\u001b[1;32m    140\u001b[0m \u001b[0;34m\u001b[0m\u001b[0m\n",
      "\u001b[0;32m<ipython-input-104-8f19669462cb>\u001b[0m in \u001b[0;36mcalc_islands\u001b[0;34m(self)\u001b[0m\n\u001b[1;32m     82\u001b[0m         \u001b[0mlead2\u001b[0m \u001b[0;34m=\u001b[0m \u001b[0mlen\u001b[0m\u001b[0;34m(\u001b[0m\u001b[0mislands\u001b[0m\u001b[0;34m)\u001b[0m \u001b[0;34m-\u001b[0m \u001b[0;36m1\u001b[0m\u001b[0;34m\u001b[0m\u001b[0m\n\u001b[1;32m     83\u001b[0m         \u001b[0mislands\u001b[0m\u001b[0;34m.\u001b[0m\u001b[0mpop\u001b[0m\u001b[0;34m(\u001b[0m\u001b[0mlead1\u001b[0m\u001b[0;34m)\u001b[0m\u001b[0;34m\u001b[0m\u001b[0m\n\u001b[0;32m---> 84\u001b[0;31m         \u001b[0mislands\u001b[0m\u001b[0;34m.\u001b[0m\u001b[0mpop\u001b[0m\u001b[0;34m(\u001b[0m\u001b[0mlead2\u001b[0m\u001b[0;34m)\u001b[0m\u001b[0;34m\u001b[0m\u001b[0m\n\u001b[0m\u001b[1;32m     85\u001b[0m         \u001b[0mself\u001b[0m\u001b[0;34m.\u001b[0m\u001b[0mislands\u001b[0m \u001b[0;34m=\u001b[0m \u001b[0mislands\u001b[0m\u001b[0;34m\u001b[0m\u001b[0m\n\u001b[1;32m     86\u001b[0m \u001b[0;34m\u001b[0m\u001b[0m\n",
      "\u001b[0;31mKeyError\u001b[0m: 0"
     ]
    },
    {
     "data": {
      "image/png": "[encoded data removed]",
      "text/plain": [
       "<matplotlib.figure.Figure at 0x10b2accc0>"
      ]
     },
     "metadata": {},
     "output_type": "display_data"
    }
   ],
   "source": [
    "# testing for a single dot\n",
    "\n",
    "import potential_profile\n",
    "\n",
    "x = np.linspace(-2,2,100)\n",
    "K_0 = 0.01e-1\n",
    "\n",
    "def find_V(x,list_b):\n",
    "    V = potential_profile.V_x_wire(x,list_b) #+ 100e-3*x**2\n",
    "    return V\n",
    "\n",
    "# gate voltages\n",
    "V_0 = 700e-3\n",
    "def_gates = [[-200e-3,1,0.1,1],[-200e-3,-1,0.1,1]]\n",
    "list_b = def_gates + [[V_0,0,0.1,1]] \n",
    "V_x = find_V(x,list_b)\n",
    "plt.figure(1)\n",
    "plt.plot(x,V_x)\n",
    "\n",
    "mu = 0.3   \n",
    "\n",
    "physics = {'x' : x,\n",
    "           'K_0' : K_0,\n",
    "           'V_x' : V_x,\n",
    "           'mu'  : mu,\n",
    "           'kT'  : 1e-8\n",
    "}\n",
    "\n",
    "st = time.time()\n",
    "tf = ThomasFermi(physics) \n",
    "config = tf.calc_stable_charge_config()\n",
    "print(\"Time\",time.time()-st)\n",
    "\n",
    "print(config)\n",
    "plt.figure(2)\n",
    "plt.plot(x,tf.n)\n",
    "print(tf.calc_charges())\n",
    "\n"
   ]
  },
  {
   "cell_type": "code",
   "execution_count": 129,
   "metadata": {},
   "outputs": [
    {
     "name": "stdout",
     "output_type": "stream",
     "text": [
      "Time 10.02236008644104\n"
     ]
    },
    {
     "data": {
      "text/plain": [
       "[<matplotlib.lines.Line2D at 0x10a4c4e80>]"
      ]
     },
     "execution_count": 129,
     "metadata": {},
     "output_type": "execute_result"
    },
    {
     "data": {
      "image/png": "[encoded data removed]",
      "text/plain": [
       "<matplotlib.figure.Figure at 0x10b057ef0>"
      ]
     },
     "metadata": {},
     "output_type": "display_data"
    }
   ],
   "source": [
    "#single dot sweep with capacitance model\n",
    "\n",
    "import sys\n",
    "import time\n",
    "sys.path.append(\"/Users/sandesh/repos/quantum-ml/nanowire_model/\")\n",
    "\n",
    "import potential_profile\n",
    "\n",
    "N_v = 100\n",
    "V_d_vec = np.linspace(100e-3,700e-3,N_v)\n",
    "# list_list_b is a list of the possible set of gate voltages which is later converted into a potential profile\n",
    "list_list_b = [def_gates + [[x,0.0,0.1,1]] for x in V_d_vec]\n",
    "\n",
    "st = time.time()\n",
    "tf = ThomasFermi(physics) \n",
    "def wrapper(V_x):\n",
    "    tf.physics['V_x'] = V_x\n",
    "    try:\n",
    "        config = tf.calc_stable_charge_config()\n",
    "    #short circuit condition\n",
    "    except KeyError as e: \n",
    "        config = (0)\n",
    "    return config\n",
    "\n",
    "charge_config = [wrapper(find_V(x,y)) for y in list_list_b]\n",
    "print(\"Time\",time.time()-st)\n",
    "\n",
    "plt.figure(1)\n",
    "plt.plot(V_d_vec,np.array([np.sum(x) for x in charge_config]))"
   ]
  },
  {
   "cell_type": "code",
   "execution_count": 130,
   "metadata": {},
   "outputs": [
    {
     "name": "stdout",
     "output_type": "stream",
     "text": [
      "Time 10.313171863555908\n"
     ]
    },
    {
     "data": {
      "text/plain": [
       "[<matplotlib.lines.Line2D at 0x1091eee80>]"
      ]
     },
     "execution_count": 130,
     "metadata": {},
     "output_type": "execute_result"
    },
    {
     "data": {
      "image/png": "[encoded data removed]",
      "text/plain": [
       "<matplotlib.figure.Figure at 0x10a18ea58>"
      ]
     },
     "metadata": {},
     "output_type": "display_data"
    },
    {
     "data": {
      "image/png": "[encoded data removed]",
      "text/plain": [
       "<matplotlib.figure.Figure at 0x10ab52a58>"
      ]
     },
     "metadata": {},
     "output_type": "display_data"
    }
   ],
   "source": [
    "#single dot sweep with markov chain\n",
    "\n",
    "N_v = 100\n",
    "V_d_vec = np.linspace(100e-3,700e-3,N_v)\n",
    "\n",
    "list_list_b = [def_gates + [[x,0,0.1,1]] for x in V_d_vec]\n",
    "\n",
    "st = time.time()\n",
    "graph_model = (1,1)\n",
    "def wrapper_curr(V_x):\n",
    "    physics['V_x'] = V_x\n",
    "    try:\n",
    "        markov = Markov(graph_model,physics) \n",
    "        markov.generate_graph()\n",
    "        curr = markov.calc_current()\n",
    "        charge = markov.calc_charge_state()\n",
    "        del markov\n",
    "    except KeyError as e:\n",
    "        curr = 0\n",
    "        charge = [0]\n",
    "    return  curr,charge\n",
    "\n",
    "current = [wrapper_curr(find_V(x,y)) for y in list_list_b]\n",
    "print(\"Time\",time.time()-st)\n",
    "\n",
    "plt.figure(1)\n",
    "plt.plot(V_d_vec,np.array([x[0] for x in current]))\n",
    "#plt.ylim([0,0.05])\n",
    "\n",
    "plt.figure(2)\n",
    "plt.plot(V_d_vec,np.array([x[1] for x in current]))\n",
    "\n"
   ]
  },
  {
   "cell_type": "code",
   "execution_count": 236,
   "metadata": {},
   "outputs": [
    {
     "name": "stdout",
     "output_type": "stream",
     "text": [
      "Automatic pdb calling has been turned ON\n"
     ]
    }
   ],
   "source": [
    "%pdb"
   ]
  },
  {
   "cell_type": "code",
   "execution_count": null,
   "metadata": {
    "collapsed": true
   },
   "outputs": [],
   "source": []
  }
 ],
 "metadata": {
  "kernelspec": {
   "display_name": "Python 3",
   "language": "python",
   "name": "python3"
  },
  "language_info": {
   "codemirror_mode": {
    "name": "ipython",
    "version": 3
   },
   "file_extension": ".py",
   "mimetype": "text/x-python",
   "name": "python",
   "nbconvert_exporter": "python",
   "pygments_lexer": "ipython3",
   "version": "3.5.2"
  }
 },
 "nbformat": 4,
 "nbformat_minor": 2
}
