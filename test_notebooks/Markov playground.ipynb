{
 "cells": [
  {
   "cell_type": "markdown",
   "metadata": {},
   "source": [
    "# Markov Playground\n",
    "This notebook will deal with simple Markov chains and their stationary probability distributions."
   ]
  },
  {
   "cell_type": "code",
   "execution_count": 2,
   "metadata": {
    "collapsed": true
   },
   "outputs": [],
   "source": [
    "import numpy as np\n",
    "import networkx as nx\n",
    "import matplotlib.pyplot as plt\n",
    "%matplotlib inline"
   ]
  },
  {
   "cell_type": "markdown",
   "metadata": {},
   "source": [
    "A loop consisting of N nodes is considered as Markov chain. Each node is connected only to the next node in the loop. If the weight of the edge from node $i$ is $w_i$, then the stable probability distribution of the Markov chain theoretically is:\n",
    "$$ p = \\frac{1}{\\sum_i \\frac{1}{w_i}} \\left( \\frac{1}{w_1},\\frac{1}{w_1}, \\cdots \\frac{1}{w_{N-1}}\\right)$$\n",
    "\n",
    "This is verified in the next cell."
   ]
  },
  {
   "cell_type": "code",
   "execution_count": 15,
   "metadata": {},
   "outputs": [
    {
     "name": "stdout",
     "output_type": "stream",
     "text": [
      "stationary probability distribution:  [ 0.54545455  0.27272727  0.18181818]\n"
     ]
    },
    {
     "name": "stderr",
     "output_type": "stream",
     "text": [
      "/usr/local/lib/python3.5/site-packages/networkx/drawing/nx_pylab.py:126: MatplotlibDeprecationWarning: pyplot.hold is deprecated.\n",
      "    Future behavior will be consistent with the long-time default:\n",
      "    plot commands add elements without first clearing the\n",
      "    Axes and/or Figure.\n",
      "  b = plt.ishold()\n",
      "/usr/local/lib/python3.5/site-packages/networkx/drawing/nx_pylab.py:138: MatplotlibDeprecationWarning: pyplot.hold is deprecated.\n",
      "    Future behavior will be consistent with the long-time default:\n",
      "    plot commands add elements without first clearing the\n",
      "    Axes and/or Figure.\n",
      "  plt.hold(b)\n",
      "/usr/local/lib/python3.5/site-packages/matplotlib/__init__.py:917: UserWarning: axes.hold is deprecated. Please remove it from your matplotlibrc and/or style files.\n",
      "  warnings.warn(self.msg_depr_set % key)\n",
      "/usr/local/lib/python3.5/site-packages/matplotlib/rcsetup.py:152: UserWarning: axes.hold is deprecated, will be removed in 3.0\n",
      "  warnings.warn(\"axes.hold is deprecated, will be removed in 3.0\")\n"
     ]
    },
    {
     "data": {
      "image/png": "[encoded data removed]",
      "text/plain": [
       "<matplotlib.figure.Figure at 0x10d6e1ef0>"
      ]
     },
     "metadata": {},
     "output_type": "display_data"
    }
   ],
   "source": [
    "# N-node loop\n",
    "# Nodes : 0,...,N-1\n",
    "# Edges : (0,1),(1,2),...,(N-1,N)\n",
    "\n",
    "N = 3\n",
    "nodes = range(N)\n",
    "edge_wts = [1,2,3] \n",
    "\n",
    "G = nx.DiGraph()\n",
    "for i in range(len(nodes)):\n",
    "    G.add_node(nodes[i])\n",
    "    \n",
    "for i in range(len(nodes)):\n",
    "    G.add_edge(i,(i+1) % N ,weight = edge_wts[i])\n",
    "\n",
    "nx.draw(G)\n",
    "\n",
    "def find_stable_dist(G):\n",
    "    A = np.array(nx.to_numpy_matrix(G))\n",
    "        \n",
    "    # look at this carefully\n",
    "    M =  A.T - np.diag(np.sum(A,axis=1))\n",
    "\n",
    "    # new approach to find the normalised probability distribution, rows of M are linearly dependent, \n",
    "    # instead replace last row with a prob normalisation condition\n",
    "    M_solver = np.append(M[:-1,:],[np.ones(M.shape[0])]).reshape(M.shape) \n",
    "    b = np.zeros(M.shape[0])\n",
    "    b[-1] = 1\n",
    "\n",
    "    dist = np.linalg.solve(M_solver,b)\n",
    "\n",
    "    return dist\n",
    "dist = find_stable_dist(G)\n",
    "print(\"stationary probability distribution: \",dist)"
   ]
  },
  {
   "cell_type": "code",
   "execution_count": null,
   "metadata": {
    "collapsed": true
   },
   "outputs": [],
   "source": []
  }
 ],
 "metadata": {
  "kernelspec": {
   "display_name": "Python 3",
   "language": "python",
   "name": "python3"
  },
  "language_info": {
   "codemirror_mode": {
    "name": "ipython",
    "version": 3
   },
   "file_extension": ".py",
   "mimetype": "text/x-python",
   "name": "python",
   "nbconvert_exporter": "python",
   "pygments_lexer": "ipython3",
   "version": "3.5.2"
  }
 },
 "nbformat": 4,
 "nbformat_minor": 2
}
