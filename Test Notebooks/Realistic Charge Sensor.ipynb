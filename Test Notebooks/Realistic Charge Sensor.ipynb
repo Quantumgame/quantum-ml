{
 "cells": [
  {
   "cell_type": "markdown",
   "metadata": {},
   "source": [
    "# Realistic Charge Sensor\n",
    "In this notebook, I will develop a model for the output of a realistic charge sensor. Two parallel nanowires will be simulated each with its own set of gates. The goal is to produce transport characterisitics of the two nanowires and get a working charge sensor output."
   ]
  },
  {
   "cell_type": "code",
   "execution_count": 3,
   "metadata": {
    "collapsed": true
   },
   "outputs": [],
   "source": [
    "import numpy as np\n",
    "import matplotlib.pyplot as plt\n",
    "%matplotlib inline\n"
   ]
  },
  {
   "cell_type": "code",
   "execution_count": 12,
   "metadata": {
    "collapsed": true
   },
   "outputs": [],
   "source": [
    "def calc_gate_potential(x,y,gate_param):\n",
    "    '''\n",
    "    Calculates the potential at each point in x\n",
    "    '''\n",
    "    peak = gate_param['peak']\n",
    "    pos_x = gate_param['pos_x']\n",
    "    pos_y = gate_param['pos_y']\n",
    "    rho = gate_param['rho']\n",
    "    h = gate_param['h']\n",
    "    screen = gate_param['screen']\n",
    "    \n",
    "    dx = np.sqrt((x-pos_x)**2 + (y[:,np.newaxis]-pos_y)**2)\n",
    "    return -1.0*(peak/np.log(h/rho))*np.log(np.sqrt(dx**2 + h**2)/rho)*np.exp(-dx/screen)\n",
    "\n",
    "def calc_potential(x,y,gate_dict):\n",
    "    '''\n",
    "    Calculates the potentials as sum from all gates in gate_dict\n",
    "    '''\n",
    "    for key,item in gate_dict.items():\n",
    "        return np.sum([calc_gate_potential(x,y,gate) for key,gate in gate_dict.items()],axis=0)"
   ]
  },
  {
   "cell_type": "markdown",
   "metadata": {},
   "source": [
    "## Gate Parameters\n",
    "Define the voltages set to the gates and their positions here."
   ]
  },
  {
   "cell_type": "code",
   "execution_count": 53,
   "metadata": {
    "collapsed": true
   },
   "outputs": [],
   "source": [
    "# all distances in nm\n",
    "# depth of 2DEG \n",
    "h = 50\n",
    "# radius of gates\n",
    "rho = 5\n",
    "# distance between dot nanowire and sensor nanowire\n",
    "d = -50\n",
    "# screening length\n",
    "screen = 20\n",
    "\n",
    "gate1_dot = {\n",
    "    'peak'   : -100e-3,\n",
    "    'pos_x'  : -20,\n",
    "    'pos_y'  : 0,\n",
    "    'rho'    : rho,\n",
    "    'h'      : h,\n",
    "    'screen' : screen,\n",
    "}\n",
    "\n",
    "gate2_dot = {\n",
    "    'peak'   : 100e-3,\n",
    "    'pos_x'  : 0,\n",
    "    'pos_y'  : 0,\n",
    "    'rho'    : rho,\n",
    "    'h'      : h,\n",
    "    'screen' : screen,\n",
    "}\n",
    "gate3_dot = {\n",
    "    'peak'   : -100e-3,\n",
    "    'pos_x'  : 20,\n",
    "    'pos_y'  : 0,\n",
    "    'rho'    : rho,\n",
    "    'h'      : h,\n",
    "    'screen' : screen,\n",
    "}\n",
    "\n",
    "gate1_sensor = {\n",
    "    'peak'   : -50e-3,\n",
    "    'pos_x'  : -15,\n",
    "    'pos_y'  : d,\n",
    "    'rho'    : rho,\n",
    "    'h'      : h,\n",
    "    'screen' : screen,\n",
    "}\n",
    "\n",
    "gate2_sensor = {\n",
    "    'peak'   : -50e-3,\n",
    "    'pos_x'  : 15,\n",
    "    'pos_y'  : d,\n",
    "    'rho'    : rho,\n",
    "    'h'      : h,\n",
    "    'screen' : screen,\n",
    "}\n",
    "\n",
    "gate_dict = {\n",
    "    'gate1_dot' : gate1_dot,\n",
    "    'gate2_dot' : gate2_dot,\n",
    "    'gate3_dot' : gate3_dot,\n",
    "    'gate1_sensor' : gate1_sensor,\n",
    "    'gate2_sensor' : gate2_sensor,\n",
    "}"
   ]
  },
  {
   "cell_type": "markdown",
   "metadata": {},
   "source": [
    "# Potential Profile Calculation\n",
    "Once the gates are defined, I will calculate the potential profile as a function of x at two y-values (y = 0 and y = d) corresponding the dot and sensor nanowire. "
   ]
  },
  {
   "cell_type": "code",
   "execution_count": 54,
   "metadata": {},
   "outputs": [
    {
     "data": {
      "text/plain": [
       "<matplotlib.text.Text at 0x10f5ea080>"
      ]
     },
     "execution_count": 54,
     "metadata": {},
     "output_type": "execute_result"
    },
    {
     "data": {
      "image/png": "[encoded data removed]",
      "text/plain": [
       "<matplotlib.figure.Figure at 0x10e2d2eb8>"
      ]
     },
     "metadata": {},
     "output_type": "display_data"
    }
   ],
   "source": [
    "x = np.linspace(-50,50,100)\n",
    "\n",
    "V1 = calc_potential(x,np.array([0]),gate_dict).flatten()\n",
    "V2 = calc_potential(x,np.array([d]),gate_dict).flatten()\n",
    "\n",
    "fig,axarr = plt.subplots(2,1)\n",
    "axarr[0].plot(x,V1)\n",
    "axarr[0].set_xlabel('x (nm)')\n",
    "axarr[0].set_ylabel('Potential profile (V)')\n",
    "\n",
    "axarr[1].plot(x,V2)\n",
    "axarr[1].set_xlabel('x (nm)')\n",
    "axarr[1].set_ylabel('Potential profile (V)')"
   ]
  },
  {
   "cell_type": "markdown",
   "metadata": {},
   "source": [
    "# 2D map of potential\n",
    "In order to just see how the potential looks in the 2DEG, I will calculate it in the full plane."
   ]
  },
  {
   "cell_type": "code",
   "execution_count": 57,
   "metadata": {},
   "outputs": [
    {
     "data": {
      "image/png": "[encoded data removed]",
      "text/plain": [
       "<matplotlib.figure.Figure at 0x10f515a90>"
      ]
     },
     "metadata": {},
     "output_type": "display_data"
    }
   ],
   "source": [
    "x = np.linspace(-50,50,100)\n",
    "y = np.linspace(-80,20)\n",
    "V_map = calc_potential(x,y,gate_dict)\n",
    "\n",
    "XX,YY = np.meshgrid(x,y)\n",
    "plt.pcolor(XX,YY,V_map)\n",
    "plt.xlabel('x (nm)')\n",
    "plt.ylabel('y (nm)')\n",
    "cbar = plt.colorbar()\n",
    "cbar.set_label('Potential (V)')"
   ]
  },
  {
   "cell_type": "markdown",
   "metadata": {
    "collapsed": true
   },
   "source": [
    "## Calculation of the electron density\n",
    "Next step is to calculate the electron density in the 2DEG plane. This is too complicated and numerically expensive. Instead, I can just restrict the calculation to two nanowires located at two y-values."
   ]
  },
  {
   "cell_type": "code",
   "execution_count": 71,
   "metadata": {},
   "outputs": [],
   "source": [
    "def calc_K_dot_mat(params):\n",
    "    '''\n",
    "    Calculates the Coulomb interaction matrix on the dot nanowire\n",
    "    '''\n",
    "    x_dot = params['x_dot']\n",
    "    K_0 = params['K_0']\n",
    "    sigma = params['sigma']\n",
    "    \n",
    "    dx = np.sqrt((x_dot - x_dot[:,np.newaxis])**2 + sigma**2)\n",
    "    # sigma in the numerator is added for normalisation, so that value at x = 0 is same irrespective of change\n",
    "    # in sigma\n",
    "    K_mat = K_0*sigma/dx \n",
    "    return K_mat \n",
    "\n",
    "def calc_K_sensor_mat(params):\n",
    "    '''\n",
    "    Calculates the Coulomb interaction matrix on the dot nanowire\n",
    "    '''\n",
    "    x_sensor = params['x_sensor']\n",
    "    K_0 = params['K_0']\n",
    "    sigma = params['sigma']\n",
    "    \n",
    "    dx = np.sqrt((x_sensor - x_sensor[:,np.newaxis])**2 + sigma**2)\n",
    "    # sigma in the numerator is added for normalisation, so that value at x = 0 is same irrespective of change\n",
    "    # in sigma\n",
    "    K_mat = K_0*sigma/dx \n",
    "    return K_mat \n",
    "    \n",
    "def calc_K_dot_sensor_mat(params):\n",
    "    '''\n",
    "    Calculates the Coulomb interaction matrix between the dot nanowire and sensor nanowire\n",
    "    '''\n",
    "    x_dot = params['x_dot']\n",
    "    K_0 = params['K_0']\n",
    "    sigma = params['sigma']\n",
    "    d = params['d']\n",
    "    \n",
    "    dx = np.sqrt((x_dot - x_sensor[:,np.newaxis])**2 + d**2 + sigma**2)\n",
    "    # sigma in the numerator is added for normalisation, so that value at x = 0 is same irrespective of change\n",
    "    # in sigma\n",
    "    K_mat = K_0*sigma/dx \n",
    "    return K_mat \n",
    "    \n",
    "def calc_n(params):\n",
    "    '''\n",
    "    Calculate the self-consistent electron density for x linspace\n",
    "    '''\n",
    "    mu = params['mu']\n",
    "    g_0 = params['g_0']\n",
    "    beta = params['beta']\n",
    "    V_dot = params['V_dot']\n",
    "    V_sensor = params['V_sensor']\n",
    "    K_dot_mat = params['K_dot_mat']\n",
    "    K_sensor_mat = params['K_sensor_mat']\n",
    "    K_dot_sensor_mat = params['K_dot_sensor_mat']\n",
    "    \n",
    "    def polylog_f(x):\n",
    "        '''\n",
    "        Density for 2DEG\n",
    "        '''\n",
    "        output = (g_0/beta) * np.log(1 + np.exp(beta * x))\n",
    "        return output\n",
    "\n",
    "    n_dot = np.zeros(len(V_dot))\n",
    "    n_dot_prev = np.zeros(len(V_dot))\n",
    "    phi_dot = np.zeros(len(V_dot))\n",
    "\n",
    "    n_sensor = np.zeros(len(V_sensor))\n",
    "    n_sensor_prev = np.zeros(len(V_sensor))\n",
    "    phi_sensor = np.zeros(len(V_sensor))\n",
    "    \n",
    "    for i in range(100):\n",
    "        # turn on the Coulomb over 10 steps\n",
    "        if i < 10:\n",
    "            phi_dot = (i/10) * (np.dot(K_dot_mat,n_dot) + np.dot(K_dot_sensor_mat,n_sensor))\n",
    "            # transpose taken of K_dot_sensor_mat to ensure right x indices of K(x,x') go in\n",
    "            # irrelevant if the x linspaces of dot and sensor are the same\n",
    "            phi_sensor = (i/10) * (np.dot(K_sensor_mat,n_sensor) + np.dot(K_dot_sensor_mat.T,n_dot))\n",
    "            \n",
    "        n_dot_prev = n_dot\n",
    "        n_dot = polylog_f(mu - V_dot + phi_dot)\n",
    "        n_sensor = polylog_f(mu - V_sensor + phi_sensor)\n",
    "\n",
    "        if (i > 10) and (np.linalg.norm(n_dot - n_dot_prev)**2 < \\\n",
    "                         (1e-12) * np.linalg.norm(n_dot) * np.linalg.norm(n_dot_prev))\\\n",
    "                    and (np.linalg.norm(n_sensor - n_sensor_prev)**2 < \\\n",
    "                         (1e-12) * np.linalg.norm(n_sensor) * np.linalg.norm(n_sensor_prev)):             \n",
    "            print(\"Done in\",i)\n",
    "            break;\n",
    "    n_dot = np.real(n_dot)\n",
    "    n_sensor = np.real(n_sensor)\n",
    "    # filter the very low electron density points\n",
    "    n_dot[n_dot < 1e-10] = 0\n",
    "    n_sensor[n_sensor < 1e-10] = 0\n",
    "    return n_dot,n_sensor"
   ]
  },
  {
   "cell_type": "code",
   "execution_count": 75,
   "metadata": {},
   "outputs": [],
   "source": [
    "x_dot = np.linspace(-50,50,100)\n",
    "x_sensor = np.linspace(-50,50,100)\n",
    "\n",
    "# note that the gate parameters are defined above\n",
    "V_dot = calc_potential(x,np.array([0]),gate_dict).flatten()\n",
    "V_sensor = calc_potential(x,np.array([d]),gate_dict).flatten()\n",
    "\n",
    "params = {\n",
    "    'x_dot'    : x_dot,\n",
    "    'x_sensor' : x_sensor,\n",
    "    'd'        : d,\n",
    "    'V_dot'    : V_dot,\n",
    "    'V_sensor' : V_sensor,\n",
    "    'K_0'      : 1e-2,\n",
    "    'sigma'    : 2,\n",
    "    'g_0'      : 1,\n",
    "    'beta'     : 1000,\n",
    "    'mu'       : 0.4,\n",
    "}\n",
    "params['K_dot_mat'] = calc_K_dot_mat(params)\n",
    "params['K_sensor_mat'] = calc_K_sensor_mat(params)\n",
    "params['K_dot_sensor_mat'] = calc_K_dot_sensor_mat(params)"
   ]
  },
  {
   "cell_type": "code",
   "execution_count": 76,
   "metadata": {},
   "outputs": [],
   "source": [
    "n_dot,n_sensor = calc_n(params)"
   ]
  },
  {
   "cell_type": "code",
   "execution_count": 80,
   "metadata": {},
   "outputs": [
    {
     "data": {
      "text/plain": [
       "<matplotlib.text.Text at 0x10dbb0160>"
      ]
     },
     "execution_count": 80,
     "metadata": {},
     "output_type": "execute_result"
    },
    {
     "data": {
      "image/png": "[encoded data removed]",
      "text/plain": [
       "<matplotlib.figure.Figure at 0x10f888f28>"
      ]
     },
     "metadata": {},
     "output_type": "display_data"
    }
   ],
   "source": [
    "fig,axarr = plt.subplots(2,1)\n",
    "\n",
    "axarr[0].plot(x_dot,n_dot)\n",
    "axarr[0].set_xlabel('x (nm)')\n",
    "axarr[0].set_ylabel('Electron density')\n",
    "\n",
    "axarr[1].plot(x_sensor,n_sensor)\n",
    "axarr[1].set_xlabel('x (nm)')\n",
    "axarr[1].set_ylabel('Electron density')"
   ]
  },
  {
   "cell_type": "markdown",
   "metadata": {},
   "source": [
    "# Calculation of Charges\n",
    "I will calculate the charge from the electron desnity summnation on the dot and sensor nanowires. I will make a plot of the charge on dot and sensor from changing the dot voltage to see if the sensor works."
   ]
  },
  {
   "cell_type": "code",
   "execution_count": 86,
   "metadata": {
    "collapsed": true
   },
   "outputs": [],
   "source": [
    "def calc_islands_and_barriers(n):\n",
    "        # n_eps sets the scale below which an island is assumed to end\n",
    "        # adaptive eps makes the calculation more robust \n",
    "        n_eps = 1e-1*np.max(n)\n",
    "        \n",
    "        n_chop = np.concatenate(([0],np.array([1 if x > n_eps else 0.0 for x in n]),[0]))\n",
    "        # replace non-zero elements by 1\n",
    "        n_diff = np.abs(np.diff(n_chop))\n",
    "        islands = np.where(n_diff == 1)[0].reshape(-1, 2)\n",
    "        \n",
    "        n_chop_bar = np.concatenate(([0],np.array([0 if x > n_eps else 1 for x in n]),[0]))\n",
    "        n_diff = np.abs(np.diff(n_chop_bar))\n",
    "        barriers = np.where(n_diff == 1)[0].reshape(-1, 2)\n",
    "        \n",
    "        # has to be copy since I will be popping off elemets from the islands list\n",
    "        all_islands = islands.copy()\n",
    "        # ignore the leads\n",
    "        # in case the leads are absent, their absence is ignored\n",
    "       \n",
    "        islands = list(islands)\n",
    "        \n",
    "        # certain edge cases handled here\n",
    "        if(len(islands) == 0):\n",
    "            # The system is a complete barrier with no islands, n = 0 \n",
    "            pass\n",
    "        elif(len(islands) == 1 and islands[0][0] == 0 and islands[0][1] == (len(n))):\n",
    "            # short-circuit condition with electron density all over\n",
    "            islands.pop(0)\n",
    "        # if left and right leads are present, they are popped off since they do not form quantum dot islands \n",
    "        if(islands != [] and islands[0][0] == 0):\n",
    "            islands.pop(0)\n",
    "        if(islands != [] and islands[-1][1] == (len(n))):\n",
    "            islands.pop(-1)\n",
    "        return islands,barriers"
   ]
  },
  {
   "cell_type": "code",
   "execution_count": 87,
   "metadata": {},
   "outputs": [
    {
     "name": "stdout",
     "output_type": "stream",
     "text": [
      "[] []\n",
      "[] []\n"
     ]
    }
   ],
   "source": [
    "dot_islands,dot_barriers = calc_islands_and_barriers(n_dot)\n",
    "print(dot_islands,dot_barriers)\n",
    "sensor_islands,sensor_barriers = calc_islands_and_barriers(n_sensor)\n",
    "print(sensor_islands,sensor_barriers)"
   ]
  },
  {
   "cell_type": "code",
   "execution_count": null,
   "metadata": {
    "collapsed": true
   },
   "outputs": [],
   "source": []
  },
  {
   "cell_type": "code",
   "execution_count": null,
   "metadata": {
    "collapsed": true
   },
   "outputs": [],
   "source": []
  }
 ],
 "metadata": {
  "kernelspec": {
   "display_name": "Python 3",
   "language": "python",
   "name": "python3"
  },
  "language_info": {
   "codemirror_mode": {
    "name": "ipython",
    "version": 3
   },
   "file_extension": ".py",
   "mimetype": "text/x-python",
   "name": "python",
   "nbconvert_exporter": "python",
   "pygments_lexer": "ipython3",
   "version": "3.5.2"
  }
 },
 "nbformat": 4,
 "nbformat_minor": 2
}
