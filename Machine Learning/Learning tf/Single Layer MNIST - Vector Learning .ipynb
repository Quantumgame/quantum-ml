{
 "cells": [
  {
   "cell_type": "markdown",
   "metadata": {},
   "source": [
    "# Single Layer MNIST\n",
    "\n",
    "This notebook will construct a one layer neural network for classifying MNIST images. I will try to use the vector approach in classifying the images."
   ]
  },
  {
   "cell_type": "code",
   "execution_count": 10,
   "metadata": {},
   "outputs": [
    {
     "name": "stdout",
     "output_type": "stream",
     "text": [
      "Extracting MNIST_data/train-images-idx3-ubyte.gz\n",
      "Extracting MNIST_data/train-labels-idx1-ubyte.gz\n",
      "Extracting MNIST_data/t10k-images-idx3-ubyte.gz\n",
      "Extracting MNIST_data/t10k-labels-idx1-ubyte.gz\n"
     ]
    }
   ],
   "source": [
    "from tensorflow.examples.tutorials.mnist import input_data\n",
    "mnist = input_data.read_data_sets(\"MNIST_data/\", one_hot=True)\n",
    "\n",
    "import tensorflow as tf\n",
    "import numpy as np\n",
    "import matplotlib.pyplot as plt\n",
    "%matplotlib inline"
   ]
  },
  {
   "cell_type": "code",
   "execution_count": 23,
   "metadata": {},
   "outputs": [
    {
     "name": "stdout",
     "output_type": "stream",
     "text": [
      "accuracy 0.9198\n"
     ]
    }
   ],
   "source": [
    "input_len = 784\n",
    "output_len = 10\n",
    "x = tf.placeholder(tf.float32, [None,input_len]) # 784 is number of pixels in each image\n",
    "\n",
    "W = tf.Variable(tf.zeros([input_len,output_len]))\n",
    "b = tf.Variable(tf.zeros([output_len]))\n",
    "\n",
    "y = tf.nn.softmax(tf.matmul(x, W) + b)\n",
    "\n",
    "# correct answers\n",
    "y_ = tf.placeholder(tf.float32, [None, output_len])\n",
    "cross_entropy = tf.reduce_mean(-tf.reduce_sum(y_ * tf.log(y), reduction_indices=[1]))\n",
    "train_step = tf.train.GradientDescentOptimizer(0.5).minimize(cross_entropy)\n",
    "\n",
    "sess = tf.InteractiveSession()\n",
    "tf.global_variables_initializer().run()\n",
    "\n",
    "for _ in range(1000):\n",
    "  batch_xs, batch_ys = mnist.train.next_batch(100)\n",
    "  sess.run(train_step, feed_dict={x: batch_xs, y_: batch_ys})\n",
    "\n",
    "correct_prediction = tf.equal(tf.argmax(y,1), tf.argmax(y_,1))\n",
    "accuracy = tf.reduce_mean(tf.cast(correct_prediction, tf.float32))\n",
    "print(\"accuracy\",accuracy.eval(feed_dict={x: mnist.test.images, y_: mnist.test.labels}))"
   ]
  },
  {
   "cell_type": "code",
   "execution_count": 24,
   "metadata": {},
   "outputs": [
    {
     "name": "stdout",
     "output_type": "stream",
     "text": [
      "(100, 784)\n",
      "(100, 10)\n"
     ]
    },
    {
     "data": {
      "text/plain": [
       "<matplotlib.text.Text at 0x1169494a8>"
      ]
     },
     "execution_count": 24,
     "metadata": {},
     "output_type": "execute_result"
    },
    {
     "data": {
      "image/png": "[encoded data removed]",
      "text/plain": [
       "<matplotlib.figure.Figure at 0x116550978>"
      ]
     },
     "metadata": {},
     "output_type": "display_data"
    },
    {
     "data": {
      "image/png": "[encoded data removed]",
      "text/plain": [
       "<matplotlib.figure.Figure at 0x10aa5cbe0>"
      ]
     },
     "metadata": {},
     "output_type": "display_data"
    }
   ],
   "source": [
    "batch_xs,batch_ys = mnist.train.next_batch(100)\n",
    "print(batch_xs.shape)\n",
    "print(batch_ys.shape)\n",
    "\n",
    "ind = np.random.randint(100)\n",
    "image = batch_xs[ind].reshape(28,28)\n",
    "plt.figure(1)\n",
    "plt.imshow(image)\n",
    "plt.title(\"Image\")\n",
    "\n",
    "def vector_proc(image):\n",
    "    len_x = image.shape[0]\n",
    "    len_y = image.shape[1]\n",
    "    \n",
    "    vec_x = image[int(len_x/2),:]\n",
    "    vec_y = image[:,int(len_y/2)]\n",
    "    return np.concatenate((vec_x,vec_y))\n",
    "vec = vector_proc(image)\n",
    "plt.figure(2)\n",
    "plt.plot(vec)\n",
    "plt.title(\"Concatenate of traces\")"
   ]
  },
  {
   "cell_type": "markdown",
   "metadata": {},
   "source": [
    "## Vector Learning\n",
    "\n",
    "Instead of sending in the full image to the NN, I will attempt to send in traces along the image and see how learning is affected."
   ]
  },
  {
   "cell_type": "code",
   "execution_count": 46,
   "metadata": {},
   "outputs": [
    {
     "name": "stdout",
     "output_type": "stream",
     "text": [
      "-6\n",
      "accuracy 0.6344\n",
      "-5\n",
      "accuracy 0.7015\n",
      "-4\n",
      "accuracy 0.726\n",
      "-3\n",
      "accuracy 0.7288\n",
      "-2\n",
      "accuracy 0.098\n",
      "-1\n",
      "accuracy 0.098\n",
      "0\n",
      "accuracy 0.098\n",
      "1\n",
      "accuracy 0.098\n",
      "2\n",
      "accuracy 0.098\n",
      "3\n",
      "accuracy 0.098\n",
      "4\n",
      "accuracy 0.098\n"
     ]
    }
   ],
   "source": [
    "def vector_proc(inp):\n",
    "    # handle list of input and a single input case\n",
    "    if(len(inp.shape) > 1):\n",
    "        out = []\n",
    "        for i in inp:\n",
    "            image = i.reshape(28,28)\n",
    "            len_x = image.shape[0]\n",
    "            len_y = image.shape[1]\n",
    "\n",
    "            vec_x = image[int(len_x/2),:]\n",
    "            vec_y = image[:,int(len_y/2)]\n",
    "            out += [np.concatenate((vec_x,vec_y))]\n",
    "        return np.array(out)\n",
    "    else:\n",
    "        image = inp.reshape(28,28)\n",
    "        len_x = image.shape[0]\n",
    "        len_y = image.shape[1]\n",
    "\n",
    "        vec_x = image[int(len_x/2),:]\n",
    "        vec_y = image[:,int(len_y/2)]\n",
    "        return np.concatenate((vec_x,vec_y))\n",
    "        \n",
    "for i in range(-6,5):\n",
    "    print(i)\n",
    "    input_len = 28*2\n",
    "    output_len = 10\n",
    "    x = tf.placeholder(tf.float32, [None,input_len]) \n",
    "\n",
    "    W = tf.Variable(tf.zeros([input_len,output_len]))\n",
    "    b = tf.Variable(tf.zeros([output_len]))\n",
    "\n",
    "    y = tf.nn.softmax(tf.matmul(x, W) + b)\n",
    "\n",
    "    # correct answers\n",
    "    y_ = tf.placeholder(tf.float32, [None, output_len])\n",
    "    cross_entropy = tf.reduce_mean(-tf.reduce_sum(y_ * tf.log(y), reduction_indices=[1]))\n",
    "    #train_step = tf.train.GradientDescentOptimizer(10**i).minimize(cross_entropy)\n",
    "    train_step = tf.train.AdamOptimizer(learning_rate=10**i).minimize(cross_entropy)\n",
    "\n",
    "    sess = tf.InteractiveSession()\n",
    "    tf.global_variables_initializer().run()\n",
    "\n",
    "    for _ in range(100000):\n",
    "        batch_xs, batch_ys = mnist.train.next_batch(100)\n",
    "        sess.run(train_step, feed_dict={x: vector_proc(batch_xs), y_: batch_ys})\n",
    "\n",
    "    correct_prediction = tf.equal(tf.argmax(y,1), tf.argmax(y_,1))\n",
    "    accuracy = tf.reduce_mean(tf.cast(correct_prediction, tf.float32))\n",
    "    print(\"accuracy\",accuracy.eval(feed_dict={x: vector_proc(mnist.test.images), y_: mnist.test.labels}))"
   ]
  },
  {
   "cell_type": "code",
   "execution_count": null,
   "metadata": {
    "collapsed": true
   },
   "outputs": [],
   "source": []
  }
 ],
 "metadata": {
  "kernelspec": {
   "display_name": "Python 3",
   "language": "python",
   "name": "python3"
  },
  "language_info": {
   "codemirror_mode": {
    "name": "ipython",
    "version": 3
   },
   "file_extension": ".py",
   "mimetype": "text/x-python",
   "name": "python",
   "nbconvert_exporter": "python",
   "pygments_lexer": "ipython3",
   "version": "3.5.2"
  }
 },
 "nbformat": 4,
 "nbformat_minor": 2
}
