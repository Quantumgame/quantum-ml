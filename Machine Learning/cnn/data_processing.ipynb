{
 "cells": [
  {
   "cell_type": "code",
   "execution_count": 38,
   "metadata": {
    "collapsed": true
   },
   "outputs": [],
   "source": [
    "# convert full output from the model into images suitable for cnn learing\n",
    "import os\n",
    "import glob\n",
    "import numpy as np\n",
    "data_files = glob.glob(\"/Users/sandesh/datadump/*100*.npy\")\n",
    "N_v = 100\n",
    "\n",
    "def proc_state(dat,N_v):\n",
    "    states = []\n",
    "    for ele in dat:\n",
    "        if ele['output']['state'] == 'ShortCircuit':\n",
    "            states += [-1]\n",
    "        elif ele['output']['state'] == 'QPC':\n",
    "            states += [0]\n",
    "        elif ele['output']['state'] == 'Dot':\n",
    "            states += [int(ele['output']['num_dot'])]\n",
    "        # invalid NoDot state\n",
    "        else:\n",
    "            states += [-2]\n",
    "    return np.array(states).reshape((N_v,N_v))\n",
    "\n",
    "for file in data_files:\n",
    "    dat = np.load(file)\n",
    "    current_map = np.array([x['output']['current'] for x in dat]).reshape((N_v,N_v))\n",
    "    state_map = proc_state(dat,N_v)\n",
    "    net_charge_map = np.array([np.sum(x['output']['charge_state']) for x in dat]).reshape((N_v,N_v))\n",
    "    maps = {'current_map' : current_map,'state_map' : state_map,'net_charge_map' : net_charge_map}\n",
    "    np.save(os.path.expanduser('~/quantum-ml/dataproc_cnn/' + os.path.basename(file)),maps)\n"
   ]
  },
  {
   "cell_type": "code",
   "execution_count": 35,
   "metadata": {
    "collapsed": false
   },
   "outputs": [
    {
     "data": {
      "text/plain": [
       "<matplotlib.collections.PolyCollection at 0x10ddc87f0>"
      ]
     },
     "execution_count": 35,
     "metadata": {},
     "output_type": "execute_result"
    },
    {
     "data": {
      "image/png": "[encoded data removed]",
      "text/plain": [
       "<matplotlib.figure.Figure at 0x10c520fd0>"
      ]
     },
     "metadata": {},
     "output_type": "display_data"
    }
   ],
   "source": [
    "import numpy as np\n",
    "dat1 = np.load(data_files[0])\n",
    "\n",
    "import matplotlib.pyplot as plt\n",
    "%matplotlib inline\n",
    "N_v = 100\n",
    "current_map = np.array([x['output']['current'] for x in dat1]).reshape((N_v,N_v))\n",
    "state_map = proc_state(dat1,N_v)\n",
    "net_charge_map = np.array([np.sum(x['output']['charge_state']) for x in dat1]).reshape((N_v,N_v))\n",
    "plt.pcolor(net_charge_map)"
   ]
  },
  {
   "cell_type": "code",
   "execution_count": null,
   "metadata": {
    "collapsed": true
   },
   "outputs": [],
   "source": []
  }
 ],
 "metadata": {
  "kernelspec": {
   "display_name": "Python 3",
   "language": "python",
   "name": "python3"
  },
  "language_info": {
   "codemirror_mode": {
    "name": "ipython",
    "version": 3
   },
   "file_extension": ".py",
   "mimetype": "text/x-python",
   "name": "python",
   "nbconvert_exporter": "python",
   "pygments_lexer": "ipython3",
   "version": "3.6.1"
  }
 },
 "nbformat": 4,
 "nbformat_minor": 2
}
