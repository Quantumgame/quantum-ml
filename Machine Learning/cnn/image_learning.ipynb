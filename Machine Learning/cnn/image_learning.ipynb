{
 "cells": [
  {
   "cell_type": "code",
   "execution_count": null,
   "metadata": {
    "collapsed": false
   },
   "outputs": [
    {
     "name": "stdout",
     "output_type": "stream",
     "text": [
      "Total number of samples : 1534\n",
      "Training samples : 1380\n",
      "Test samples : 154\n",
      "INFO:tensorflow:Using default config.\n",
      "INFO:tensorflow:Using config: {'_master': '', '_keep_checkpoint_max': 5, '_save_checkpoints_secs': 600, '_num_ps_replicas': 0, '_task_type': None, '_tf_config': gpu_options {\n",
      "  per_process_gpu_memory_fraction: 1\n",
      "}\n",
      ", '_save_checkpoints_steps': None, '_keep_checkpoint_every_n_hours': 10000, '_is_chief': True, '_model_dir': None, '_cluster_spec': <tensorflow.python.training.server_lib.ClusterSpec object at 0x11b4f43c8>, '_environment': 'local', '_evaluation_master': '', '_save_summary_steps': 100, '_num_worker_replicas': 0, '_task_id': 0, '_tf_random_seed': None}\n",
      "WARNING:tensorflow:Using temporary folder as model directory: /var/folders/4f/dzjlj30x1bv7zk7rdkyspqmc0000gn/T/tmpvqdnona0\n",
      "INFO:tensorflow:Create CheckpointSaverHook.\n",
      "INFO:tensorflow:Saving checkpoints for 1 into /var/folders/4f/dzjlj30x1bv7zk7rdkyspqmc0000gn/T/tmpvqdnona0/model.ckpt.\n",
      "INFO:tensorflow:loss = 1.74658, step = 1\n",
      "INFO:tensorflow:\n",
      "INFO:tensorflow:global_step/sec: 0.751799\n",
      "INFO:tensorflow:loss = 0.171681, step = 101 (133.037 sec)\n",
      "INFO:tensorflow: (133.036 sec)\n",
      "INFO:tensorflow:global_step/sec: 0.798129\n",
      "INFO:tensorflow:loss = 0.143646, step = 201 (125.282 sec)\n",
      "INFO:tensorflow: (125.281 sec)\n",
      "INFO:tensorflow:global_step/sec: 0.77821\n",
      "INFO:tensorflow:loss = 0.157768, step = 301 (128.501 sec)\n",
      "INFO:tensorflow: (128.501 sec)\n",
      "INFO:tensorflow:global_step/sec: 0.787132\n",
      "INFO:tensorflow:loss = 0.146569, step = 401 (127.042 sec)\n",
      "INFO:tensorflow: (127.042 sec)\n",
      "INFO:tensorflow:Saving checkpoints for 468 into /var/folders/4f/dzjlj30x1bv7zk7rdkyspqmc0000gn/T/tmpvqdnona0/model.ckpt.\n",
      "INFO:tensorflow:global_step/sec: 0.776672\n",
      "INFO:tensorflow:loss = 0.140382, step = 501 (128.757 sec)\n",
      "INFO:tensorflow: (128.757 sec)\n",
      "INFO:tensorflow:global_step/sec: 0.768612\n",
      "INFO:tensorflow:loss = 0.135599, step = 601 (130.101 sec)\n",
      "INFO:tensorflow: (130.100 sec)\n",
      "INFO:tensorflow:Saving checkpoints for 686 into /var/folders/4f/dzjlj30x1bv7zk7rdkyspqmc0000gn/T/tmpvqdnona0/model.ckpt.\n",
      "INFO:tensorflow:global_step/sec: 0.0115348\n",
      "INFO:tensorflow:loss = 0.139686, step = 701 (8669.442 sec)\n",
      "INFO:tensorflow: (8669.443 sec)\n"
     ]
    }
   ],
   "source": [
    "\n",
    "# learn the states of a double dot\n",
    "import numpy as np\n",
    "import tensorflow as tf\n",
    "import glob\n",
    "import os\n",
    "\n",
    "from tensorflow.contrib import learn\n",
    "from tensorflow.contrib.learn.python.learn.estimators import model_fn as model_fn_lib\n",
    "\n",
    "tf.logging.set_verbosity(tf.logging.INFO)\n",
    "\n",
    "# application logic will be added here\n",
    "def cnn_model_fn(features,labels,mode):\n",
    "    '''Model function for CNN'''\n",
    "    #input layer\n",
    "    input_layer = tf.cast(tf.reshape(features,[-1,100,100,1]),tf.float32)\n",
    "    \n",
    "    # Concolutional layer1\n",
    "    conv1 = tf.layers.conv2d(\n",
    "        inputs=input_layer,\n",
    "        filters=32,\n",
    "        kernel_size=[10,10],\n",
    "        padding=\"same\",\n",
    "        activation=tf.nn.relu)\n",
    "\n",
    "    # Pooling layer1\n",
    "    pool1 = tf.layers.max_pooling2d(inputs=conv1,pool_size=[5,5],strides=5)\n",
    "\n",
    "    # Dense layer\n",
    "    pool2_flat = tf.contrib.layers.flatten(pool1)\n",
    "    dense0 = tf.layers.dense(inputs=pool2_flat,units=512,activation=tf.nn.relu)\n",
    "    dropout0 = tf.layers.dropout(inputs=dense0,rate=0.5,training=mode == learn.ModeKeys.TRAIN)\n",
    "    \n",
    "    dense1 = tf.layers.dense(inputs=dropout0,units=256,activation=tf.nn.relu)\n",
    "    dropout1 = tf.layers.dropout(inputs=dense1,rate=0.5,training=mode == learn.ModeKeys.TRAIN)\n",
    "    \n",
    "    dense2 = tf.layers.dense(inputs=dropout1,units=128,activation=tf.nn.relu)\n",
    "    dropout2 = tf.layers.dropout(inputs=dense2,rate=0.5,training=mode == learn.ModeKeys.TRAIN)\n",
    "\n",
    "    # encode layer\n",
    "    encode = tf.layers.dense(inputs=dropout2,units=8)\n",
    "    \n",
    "    # dense output layer\n",
    "    out_layer = tf.layers.dense(inputs=encode,units=10000)\n",
    "\n",
    "    loss = None\n",
    "    train_op = None\n",
    "\n",
    "    # Calculate loss( for both TRAIN AND EVAL modes)\n",
    "    if mode != learn.ModeKeys.INFER:\n",
    "        loss = tf.losses.mean_squared_error(labels=labels, predictions=out_layer)\n",
    "\n",
    "    # Configure the training op (for TRAIN mode)\n",
    "    if mode == learn.ModeKeys.TRAIN:\n",
    "        train_op = tf.contrib.layers.optimize_loss(\n",
    "            loss=loss,\n",
    "            global_step=tf.contrib.framework.get_global_step(),\n",
    "            learning_rate=0.01,\n",
    "            optimizer=\"Adam\")\n",
    "\n",
    "    # Generate predictions\n",
    "    predictions= {\n",
    "        \"states\" : tf.rint(out_layer),\n",
    "    }\n",
    "\n",
    "    # Returna  ModelFnOps object\n",
    "    return model_fn_lib.ModelFnOps(mode=mode,predictions=predictions,loss=loss, train_op=train_op)\n",
    "    \n",
    "def get_train_inputs():\n",
    "    n_batch = 50\n",
    "    index = np.random.choice(np.arange(train_data.shape[0]),n_batch,replace=False)\n",
    "    x = tf.constant(train_data[index])\n",
    "    y = tf.constant(train_labels[index])\n",
    "    return x,y\n",
    "\n",
    "def get_test_inputs():\n",
    "    x = tf.constant(test_data)\n",
    "    y = tf.constant(test_labels)\n",
    "    return x,y\n",
    "\n",
    "# get the data\n",
    "data_files = glob.glob(os.path.expanduser('~/dataproc/*100*.npy'))\n",
    "inp = []\n",
    "oup = []\n",
    "for file in data_files:\n",
    "    data_dict = np.load(file).item()\n",
    "    inp += [data_dict['current_map']]\n",
    "    oup += [data_dict['state_map'].flatten()]\n",
    "\n",
    "inp = np.array(inp)\n",
    "oup = np.array(oup)\n",
    "n_samples = inp.shape[0]\n",
    "train_sample_ratio = 0.9\n",
    "n_train = int(train_sample_ratio * n_samples)\n",
    "print(\"Total number of samples :\",n_samples)\n",
    "print(\"Training samples :\",n_train)\n",
    "print(\"Test samples :\",n_samples - n_train)\n",
    "train_data = inp[:n_train]\n",
    "train_labels = oup[:n_train]\n",
    "\n",
    "test_data = inp[n_train:]\n",
    "test_labels = oup[n_train:]\n",
    "\n",
    "# create the estimator\n",
    "dd_classifier = learn.Estimator(model_fn=cnn_model_fn)\n",
    "\n",
    "# set up logging for predictions\n",
    "tensors_to_log = {}\n",
    "logging_hook = tf.train.LoggingTensorHook(tensors=tensors_to_log, every_n_iter=100)\n",
    "\n",
    "metrics = {\n",
    "    \"accuracy\" : learn.MetricSpec(metric_fn=tf.metrics.accuracy, prediction_key=\"states\"),\n",
    "}\n",
    "for _ in range(1):\n",
    "    dd_classifier.fit(\n",
    "        input_fn=get_train_inputs,\n",
    "        steps=1000,\n",
    "        monitors=[logging_hook])\n",
    "    \n",
    "    eval_results=dd_classifier.evaluate(input_fn=get_train_inputs,metrics=metrics,steps=1)\n",
    "    print(\"Train accuracy\",eval_results)\n",
    "    eval_results=dd_classifier.evaluate(input_fn=get_test_inputs,metrics=metrics,steps=1)\n",
    "    print(\"Validation accuracy\",eval_results)\n",
    "\n",
    "print(\"Total number of samples :\",n_samples)\n",
    "print(\"Training samples :\",n_train)\n",
    "print(\"Test samples :\",n_samples - n_train)\n",
    "eval_results=dd_classifier.evaluate(input_fn=get_test_inputs,metrics=metrics,steps=1)\n",
    "print(\"Test accuracy\",eval_results)"
   ]
  },
  {
   "cell_type": "code",
   "execution_count": 4,
   "metadata": {
    "collapsed": true
   },
   "outputs": [],
   "source": [
    "res_list = []\n",
    "for i,p in enumerate(predictions):\n",
    "    res_list += [p['states'].reshape((100,100))]"
   ]
  },
  {
   "cell_type": "code",
   "execution_count": 7,
   "metadata": {
    "collapsed": false
   },
   "outputs": [
    {
     "data": {
      "text/plain": [
       "<matplotlib.collections.PolyCollection at 0x11b161a90>"
      ]
     },
     "execution_count": 7,
     "metadata": {},
     "output_type": "execute_result"
    },
    {
     "data": {
      "image/png": "[encoded data removed]",
      "text/plain": [
       "<matplotlib.figure.Figure at 0x11a3c9f98>"
      ]
     },
     "metadata": {},
     "output_type": "display_data"
    }
   ],
   "source": [
    "import matplotlib.pyplot as plt\n",
    "%matplotlib inline\n",
    "plt.subplot(2,1,1)\n",
    "plt.pcolor(res_list[0])\n",
    "plt.subplot(2,1,2)\n",
    "plt.pcolor(test_labels[0].reshape((100,100)))"
   ]
  },
  {
   "cell_type": "code",
   "execution_count": 94,
   "metadata": {
    "collapsed": false
   },
   "outputs": [
    {
     "data": {
      "text/plain": [
       "[]"
      ]
     },
     "execution_count": 94,
     "metadata": {},
     "output_type": "execute_result"
    }
   ],
   "source": [
    "res_list"
   ]
  },
  {
   "cell_type": "code",
   "execution_count": 3,
   "metadata": {
    "collapsed": false
   },
   "outputs": [
    {
     "name": "stdout",
     "output_type": "stream",
     "text": [
      "WARNING:tensorflow:From <ipython-input-3-bffba77c8151>:1: calling BaseEstimator.predict (from tensorflow.contrib.learn.python.learn.estimators.estimator) with x is deprecated and will be removed after 2016-12-01.\n",
      "Instructions for updating:\n",
      "Estimator is decoupled from Scikit Learn interface by moving into\n",
      "separate class SKCompat. Arguments x, y and batch_size are only\n",
      "available in the SKCompat class, Estimator will only accept input_fn.\n",
      "Example conversion:\n",
      "  est = Estimator(...) -> est = SKCompat(Estimator(...))\n",
      "WARNING:tensorflow:float64 is not supported by many models, consider casting to float32.\n",
      "INFO:tensorflow:Restoring parameters from /var/folders/4f/dzjlj30x1bv7zk7rdkyspqmc0000gn/T/tmp85r_dchb/model.ckpt-1000\n"
     ]
    }
   ],
   "source": [
    "predictions = dd_classifier.predict(x=test_data)"
   ]
  },
  {
   "cell_type": "code",
   "execution_count": 30,
   "metadata": {
    "collapsed": false
   },
   "outputs": [
    {
     "name": "stdout",
     "output_type": "stream",
     "text": [
      "WARNING:tensorflow:From <ipython-input-30-56d8f07260bd>:3: calling BaseEstimator.predict (from tensorflow.contrib.learn.python.learn.estimators.estimator) with x is deprecated and will be removed after 2016-12-01.\n",
      "Instructions for updating:\n",
      "Estimator is decoupled from Scikit Learn interface by moving into\n",
      "separate class SKCompat. Arguments x, y and batch_size are only\n",
      "available in the SKCompat class, Estimator will only accept input_fn.\n",
      "Example conversion:\n",
      "  est = Estimator(...) -> est = SKCompat(Estimator(...))\n",
      "WARNING:tensorflow:float64 is not supported by many models, consider casting to float32.\n",
      "INFO:tensorflow:Restoring parameters from /tmp/model.ckpt-2601\n"
     ]
    },
    {
     "data": {
      "text/plain": [
       "<matplotlib.collections.PolyCollection at 0x1025129b0>"
      ]
     },
     "execution_count": 30,
     "metadata": {},
     "output_type": "execute_result"
    },
    {
     "data": {
      "image/png": "[encoded data removed]",
      "text/plain": [
       "<matplotlib.figure.Figure at 0x11359d3c8>"
      ]
     },
     "metadata": {},
     "output_type": "display_data"
    }
   ],
   "source": [
    "sub_image = np.zeros((100,100))\n",
    "sub_image[50:90,50:90] = test_data[23][20:60,20:60]\n",
    "sub_image_res = dd_classifier.predict(x=sub_image)\n",
    "sub_res_list = []\n",
    "for i,p in enumerate(sub_image_res):\n",
    "    sub_res_list += [p['states'].reshape((100,100))]\n",
    "plt.pcolor(sub_res_list[0][50:90,50:90])"
   ]
  },
  {
   "cell_type": "code",
   "execution_count": 29,
   "metadata": {
    "collapsed": false
   },
   "outputs": [
    {
     "data": {
      "text/plain": [
       "<matplotlib.collections.PolyCollection at 0x11316afd0>"
      ]
     },
     "execution_count": 29,
     "metadata": {},
     "output_type": "execute_result"
    },
    {
     "data": {
      "image/png": "[encoded data removed]",
      "text/plain": [
       "<matplotlib.figure.Figure at 0x10ff82e80>"
      ]
     },
     "metadata": {},
     "output_type": "display_data"
    }
   ],
   "source": [
    "plt.pcolor(test_labels[23].reshape((100,100))[20:60,20:60])"
   ]
  },
  {
   "cell_type": "code",
   "execution_count": 27,
   "metadata": {
    "collapsed": false
   },
   "outputs": [
    {
     "data": {
      "text/plain": [
       "0.19062499999999999"
      ]
     },
     "execution_count": 27,
     "metadata": {},
     "output_type": "execute_result"
    }
   ],
   "source": [
    "diff = test_labels[23].reshape((100,100))[20:60,20:60] - sub_res_list[0][20:60,20:60]\n",
    "np.sum(np.abs(diff))/1600"
   ]
  },
  {
   "cell_type": "code",
   "execution_count": 142,
   "metadata": {
    "collapsed": false
   },
   "outputs": [
    {
     "name": "stdout",
     "output_type": "stream",
     "text": [
      "Using matplotlib backend: MacOSX\n"
     ]
    }
   ],
   "source": [
    "# animation\n",
    "import matplotlib.pyplot as plt\n",
    "import numpy as np\n",
    "import matplotlib as mpl\n",
    "import matplotlib.animation as animation\n",
    "plt.rcParams['animation.ffmpeg_path'] ='/usr/local/bin/ffmpeg'\n",
    "%matplotlib \n",
    "\n",
    "fig, ax = plt.subplots(1,2)\n",
    "XX,YY = np.meshgrid(np.linspace(50e-3,500e-3,100),np.linspace(50e-3,500e-3,100))\n",
    "\n",
    "def fixed_aspect_ratio(ax,ratio):\n",
    "    '''\n",
    "    Set a fixed aspect ratio on matplotlib plots \n",
    "    regardless of axis units\n",
    "    '''\n",
    "    xvals,yvals = ax.axes.get_xlim(),ax.axes.get_ylim()\n",
    "\n",
    "    xrange = xvals[1]-xvals[0]\n",
    "    yrange = yvals[1]-yvals[0]\n",
    "    ax.set_aspect(ratio*(xrange/yrange), adjustable='box')\n",
    "    \n",
    "\n",
    "def animate(i):\n",
    "    my_cmap = mpl.colors.ListedColormap([[0., .4, 1.], [0., .8, 1.],\n",
    "                                  [1., .8, 0.], [1., .4, 0.]])\n",
    "    \n",
    "    line = ax[0].pcolor(XX,YY,predictions_list[i][0],vmin=-1,vmax=2,cmap = my_cmap,alpha=0.9)\n",
    "    fixed_aspect_ratio(ax[0],1.0)\n",
    "    ax[0].set_title(r'Predicted $n_{iter} = $' + str(i*500))\n",
    "    \n",
    "    return line,\n",
    "\n",
    "\n",
    "# Init only required for blitting to give a clean slate.\n",
    "def init():\n",
    "    \n",
    "    my_cmap = mpl.colors.ListedColormap([[0., .4, 1.], [0., .8, 1.],\n",
    "                                  [1., .8, 0.], [1., .4, 0.]])\n",
    "    \n",
    "    line = ax[0].pcolor(XX,YY,predictions_list[0][0],vmin=-1,vmax=2,cmap = my_cmap,alpha=0.9)\n",
    "    fixed_aspect_ratio(ax[0],1.0)\n",
    "    cbar_0 = plt.colorbar(line,ax=ax[0],cmap=my_cmap,ticks=[-1,0,1,2],fraction=0.046, pad=0.04)\n",
    "    cbar_0.set_ticklabels([\"SC\",\"QPC\",\"1Dot\",\"2Dot\"])\n",
    "    cbar_0.set_ticks([-0.5,0.5,1.5,2.5])\n",
    "    ax[0].set_xlabel(r'$V_{d1} (V)$',fontsize=12)\n",
    "    ax[0].set_ylabel(r'$V_{d2} (V)$',fontsize=12)\n",
    "    ax[0].set_title(r'Expected $n_{iter} = $' + str(0))\n",
    "    ax[0].set_title('Predicted')\n",
    "    \n",
    "    \n",
    "    line2 = ax[1].pcolor(XX,YY,test_labels[0].reshape((100,100)),vmin=-1,vmax=2,cmap = my_cmap,alpha=0.9)\n",
    "    fixed_aspect_ratio(ax[1],1.0)\n",
    "    cbar_1 = plt.colorbar(line2,ax=ax[1],cmap=my_cmap,ticks=[-1,0,1,2],fraction=0.046, pad=0.04)\n",
    "    cbar_1.set_ticklabels([\"SC\",\"QPC\",\"1Dot\",\"2Dot\"])\n",
    "    cbar_1.set_ticks([-0.5,0.5,1.5,2.5])\n",
    "    ax[1].set_xlabel(r'$V_{d1} (V)$',fontsize=12)\n",
    "    ax[1].set_ylabel(r'$V_{d2} (V)$',fontsize=12)\n",
    "    ax[1].set_title('Expected')\n",
    "    plt.tight_layout()\n",
    "    \n",
    "    \n",
    "    return line,\n",
    "\n",
    "ani = animation.FuncAnimation(fig, animate, np.arange(100) , init_func=init,\n",
    "                              interval=500, blit=True)\n",
    "\n",
    "mywriter = animation.FFMpegWriter()\n",
    "ani.save('dd_learning.mp4',writer=mywriter)\n",
    "\n",
    "plt.show()"
   ]
  },
  {
   "cell_type": "code",
   "execution_count": 118,
   "metadata": {
    "collapsed": false
   },
   "outputs": [
    {
     "data": {
      "text/plain": [
       "array([ 0,  0,  0, ..., -1, -1, -1])"
      ]
     },
     "execution_count": 118,
     "metadata": {},
     "output_type": "execute_result"
    }
   ],
   "source": [
    "test_labels[0]"
   ]
  },
  {
   "cell_type": "code",
   "execution_count": 125,
   "metadata": {
    "collapsed": false
   },
   "outputs": [
    {
     "data": {
      "text/plain": [
       "array([[ 0., -0., -0., ...,  0.,  0.,  0.],\n",
       "       [-0.,  0., -0., ...,  0.,  0.,  0.],\n",
       "       [ 0.,  0.,  0., ...,  0.,  0.,  0.],\n",
       "       ..., \n",
       "       [ 0.,  0.,  0., ..., -0., -0., -0.],\n",
       "       [ 0.,  0.,  0., ..., -0., -0., -0.],\n",
       "       [ 0.,  0.,  0., ..., -0., -0., -0.]], dtype=float32)"
      ]
     },
     "execution_count": 125,
     "metadata": {},
     "output_type": "execute_result"
    }
   ],
   "source": [
    "predictions_list[0][18]"
   ]
  },
  {
   "cell_type": "code",
   "execution_count": null,
   "metadata": {
    "collapsed": true
   },
   "outputs": [],
   "source": []
  }
 ],
 "metadata": {
  "kernelspec": {
   "display_name": "Python 3",
   "language": "python",
   "name": "python3"
  },
  "language_info": {
   "codemirror_mode": {
    "name": "ipython",
    "version": 3
   },
   "file_extension": ".py",
   "mimetype": "text/x-python",
   "name": "python",
   "nbconvert_exporter": "python",
   "pygments_lexer": "ipython3",
   "version": "3.6.1"
  }
 },
 "nbformat": 4,
 "nbformat_minor": 2
}
