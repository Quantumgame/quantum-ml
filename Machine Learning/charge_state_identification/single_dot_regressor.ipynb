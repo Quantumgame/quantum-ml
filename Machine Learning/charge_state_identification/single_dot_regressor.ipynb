{
 "cells": [
  {
   "cell_type": "code",
   "execution_count": 2,
   "metadata": {
    "collapsed": false
   },
   "outputs": [
    {
     "name": "stdout",
     "output_type": "stream",
     "text": [
      "Number of inputs: 100\n",
      "Number of outputs: 100\n",
      "Total, Training, Test\n",
      "1000 800 200\n",
      "{'loss': 1.014519, 'global_step': 50000}\n",
      "Completed in 264.0872242450714 seconds.\n"
     ]
    }
   ],
   "source": [
    "# simple regressor\n",
    "\n",
    "import numpy as np\n",
    "import os\n",
    "import tensorflow as tf\n",
    "from datetime import datetime\n",
    "tf.logging.set_verbosity(tf.logging.ERROR)\n",
    "\n",
    "import matplotlib.pyplot as plt\n",
    "import time\n",
    "%matplotlib inline\n",
    "st = time.time()\n",
    "\n",
    "# data is assumed to be [V_vec I_vec C_vec]\n",
    "\n",
    "# change the file name if using a different system\n",
    "data = np.loadtxt(os.path.expanduser('~/quantum-ml/data/var_K_I_V_1000_3_10meV.txt'))\n",
    "\n",
    "# data randomly permuted to improve learning rate\n",
    "data = np.random.permutation(data)\n",
    "n_tot = data.shape[0]\n",
    "n_train = int(0.8*n_tot)\n",
    "n_test = n_tot - n_train\n",
    "\n",
    "# input parameters\n",
    "n_inp = int(data.shape[1]/3)\n",
    "n_out = int(data.shape[1]/3)\n",
    "print(\"Number of inputs:\", n_inp)\n",
    "print(\"Number of outputs:\", n_out)\n",
    "\n",
    "x_train_data = data[:n_train,n_inp:2*n_inp].reshape((n_train,n_inp))\n",
    "y_train_data = data[:n_train,2*n_inp:].reshape((n_train,n_out)).astype(int)\n",
    "x_test_data = data[n_train:,n_inp:2*n_inp].reshape((n_test,n_inp))\n",
    "y_test_data = data[n_train:,2*n_inp:].reshape((n_test,n_out)).astype(int)\n",
    "\n",
    "print(\"Total, Training, Test\")\n",
    "print(n_tot, n_train, n_test)\n",
    "\n",
    "\n",
    "#get data\n",
    "def get_train_inputs():\n",
    "    x = tf.constant(x_train_data)\n",
    "    y = tf.constant(y_train_data)\n",
    "    return x,y\n",
    "\n",
    "def get_test_inputs():\n",
    "    x = tf.constant(x_test_data)\n",
    "    y = tf.constant(y_test_data)\n",
    "    return x,y\n",
    "\n",
    "# load datasets\n",
    "features = [tf.contrib.layers.real_valued_column(\"\",dimension=n_inp)]\n",
    "regressor = tf.contrib.learn.LinearRegressor(feature_columns=features,label_dimension=n_out)\n",
    "\n",
    "# Magic happens here!\n",
    "\n",
    "regressor.fit(input_fn=get_train_inputs, steps=50000)\n",
    "\n",
    "accuracy_score = regressor.evaluate(input_fn=get_test_inputs,steps=1)\n",
    "print(accuracy_score)\n",
    "\n",
    "predictions = list(regressor.predict(input_fn=get_test_inputs))\n",
    "\n",
    "print(\"Completed in\",time.time()-st, \"seconds.\")"
   ]
  },
  {
   "cell_type": "code",
   "execution_count": 3,
   "metadata": {
    "collapsed": false
   },
   "outputs": [
    {
     "data": {
      "text/plain": [
       "<matplotlib.legend.Legend at 0x1100dc240>"
      ]
     },
     "execution_count": 3,
     "metadata": {},
     "output_type": "execute_result"
    },
    {
     "data": {
      "image/png": "[encoded data removed]",
      "text/plain": [
       "<matplotlib.figure.Figure at 0x1036e3ac8>"
      ]
     },
     "metadata": {},
     "output_type": "display_data"
    }
   ],
   "source": [
    "i = 2\n",
    "plt.plot(y_test_data[i,:],'b')\n",
    "plt.plot(np.ceil(predictions[i][:]),'r')\n",
    "plt.legend(('Actual','Prediction'))"
   ]
  },
  {
   "cell_type": "code",
   "execution_count": null,
   "metadata": {
    "collapsed": true
   },
   "outputs": [],
   "source": []
  }
 ],
 "metadata": {
  "kernelspec": {
   "display_name": "Python 3",
   "language": "python",
   "name": "python3"
  },
  "language_info": {
   "codemirror_mode": {
    "name": "ipython",
    "version": 3
   },
   "file_extension": ".py",
   "mimetype": "text/x-python",
   "name": "python",
   "nbconvert_exporter": "python",
   "pygments_lexer": "ipython3",
   "version": "3.6.1"
  }
 },
 "nbformat": 4,
 "nbformat_minor": 2
}
