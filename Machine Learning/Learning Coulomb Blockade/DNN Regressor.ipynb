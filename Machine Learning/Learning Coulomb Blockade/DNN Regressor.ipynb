{
 "cells": [
  {
   "cell_type": "markdown",
   "metadata": {},
   "source": [
    "# DNN for learning Coulomb Blockade\n",
    "A simple DNN will be used to learn to *integrate* the current characteristics to find the charge on the device."
   ]
  },
  {
   "cell_type": "code",
   "execution_count": 1,
   "metadata": {
    "collapsed": true
   },
   "outputs": [],
   "source": [
    "import numpy as np\n",
    "import os\n",
    "import tensorflow as tf\n",
    "tf.logging.set_verbosity(tf.logging.ERROR)\n",
    "import matplotlib.pyplot as plt\n",
    "%matplotlib inline\n",
    "import glob\n",
    "import time"
   ]
  },
  {
   "cell_type": "code",
   "execution_count": 3,
   "metadata": {},
   "outputs": [
    {
     "name": "stdout",
     "output_type": "stream",
     "text": [
      "Number of files 699\n",
      "Data keys dict_keys(['V_P_vec', 'type', 'physics', 'output'])\n"
     ]
    }
   ],
   "source": [
    "file_list = glob.glob(\"/Users/sandesh/data_for_paper/single_dot/*.npy\")\n",
    "print(\"Number of files\",len(file_list))\n",
    "data_list = [np.load(f).item() for f in file_list]\n",
    "print(\"Data keys\",data_list[0].keys())"
   ]
  },
  {
   "cell_type": "markdown",
   "metadata": {},
   "source": [
    "## Sample Current and Charge Traces from the data"
   ]
  },
  {
   "cell_type": "code",
   "execution_count": 9,
   "metadata": {},
   "outputs": [
    {
     "data": {
      "text/plain": [
       "[<matplotlib.lines.Line2D at 0x1248926d8>]"
      ]
     },
     "execution_count": 9,
     "metadata": {},
     "output_type": "execute_result"
    },
    {
     "data": {
      "image/png": "[encoded data removed]",
      "text/plain": [
       "<matplotlib.figure.Figure at 0x12472c208>"
      ]
     },
     "metadata": {},
     "output_type": "display_data"
    },
    {
     "data": {
      "image/png": "[encoded data removed]",
      "text/plain": [
       "<matplotlib.figure.Figure at 0x1245fbac8>"
      ]
     },
     "metadata": {},
     "output_type": "display_data"
    }
   ],
   "source": [
    "# sample data plots\n",
    "file_index = np.random.randint(len(file_list))\n",
    "V_P_vec = data_list[file_index]['V_P_vec']\n",
    "current_vec = [x['current'] for x in data_list[file_index]['output']]\n",
    "charge_vec = [np.sum(x['charge']) for x in data_list[file_index]['output']]\n",
    "\n",
    "plt.figure(1)\n",
    "plt.plot(V_P_vec,current_vec)\n",
    "\n",
    "plt.figure(2)\n",
    "plt.plot(V_P_vec,charge_vec)"
   ]
  },
  {
   "cell_type": "markdown",
   "metadata": {},
   "source": [
    "## Loading of the data\n",
    "The data is put into separate input and output lists so that it works with the code of the DNN from tensorflow."
   ]
  },
  {
   "cell_type": "code",
   "execution_count": 17,
   "metadata": {},
   "outputs": [],
   "source": [
    "inp_array = []\n",
    "out_array = []\n",
    "for dat in data_list:\n",
    "    inp_array.append(np.array([x['current'] for x in dat['output']]))\n",
    "    out_array.append(np.array([np.sum(x['charge']) for x in dat['output']]))\n",
    "inp_array = np.array(inp_array)\n",
    "out_array = np.array(out_array)"
   ]
  },
  {
   "cell_type": "markdown",
   "metadata": {},
   "source": [
    "## Constructing the DNN Regressor\n",
    "A packaged DNN is used from the tensorflow.contrib.learn.DNNRegressor API."
   ]
  },
  {
   "cell_type": "code",
   "execution_count": 31,
   "metadata": {},
   "outputs": [
    {
     "name": "stdout",
     "output_type": "stream",
     "text": [
      "Number of inputs: 512\n",
      "Number of outputs: 512\n",
      "Total, Training, Test\n",
      "699 629 70\n",
      "Completed in 80.95176887512207 seconds.\n",
      "Accuracy :  0.499581473214\n"
     ]
    }
   ],
   "source": [
    "model_dir_path = \"/Users/sandesh/trained_networks/single_dot/\"\n",
    "# determines the number of inputs used as the training set\n",
    "# the rest are treated as a test set\n",
    "train_factor = 0.9\n",
    "\n",
    "n_tot = inp_array.shape[0]\n",
    "n_train = int(train_factor*n_tot)\n",
    "n_test = n_tot - n_train\n",
    "\n",
    "# input parameters\n",
    "n_inp = inp_array[0].shape[0] \n",
    "n_out = out_array[0].shape[0] \n",
    "print(\"Number of inputs:\", n_inp)\n",
    "print(\"Number of outputs:\", n_out)\n",
    "\n",
    "x_test_data = inp_array[n_train:]\n",
    "y_test_data = out_array[n_train:].astype(int)\n",
    "\n",
    "print(\"Total, Training, Test\")\n",
    "print(n_tot, n_train, n_test)\n",
    "\n",
    "def get_train_inputs():\n",
    "    # load a random batch of batch_size to perform the training\n",
    "    batch_size = 25\n",
    "    idx = np.random.randint(n_train,size=batch_size)\n",
    "    \n",
    "    x_train_data = inp_array[idx,:]\n",
    "    y_train_data = out_array[idx,:].astype(int)\n",
    "    x = tf.constant(x_train_data)\n",
    "    y = tf.constant(y_train_data)\n",
    "    return x,y\n",
    "\n",
    "def get_test_inputs():\n",
    "    x = tf.constant(x_test_data)\n",
    "    y = tf.constant(y_test_data)\n",
    "    return x,y\n",
    "\n",
    "# load datasets\n",
    "features = [tf.contrib.layers.real_valued_column(\"\",dimension=n_inp)]\n",
    "regressor = tf.contrib.learn.DNNRegressor(feature_columns=features,\n",
    "                                          label_dimension=n_out,\n",
    "                                          hidden_units=[512,256,128],\n",
    "                                          optimizer=tf.train.AdamOptimizer(learning_rate=0.1),\n",
    "                                          model_dir = model_dir_path,\n",
    "                                         )\n",
    "st = time.time()\n",
    "regressor.fit(input_fn=get_train_inputs, steps=10000)\n",
    "\n",
    "print(\"Completed in\",time.time()-st, \"seconds.\")\n",
    "\n",
    "predictions = list(regressor.predict(input_fn=get_test_inputs))\n",
    "def eval_accur(y1,y2):\n",
    "    diff = np.abs(y1-y2)\n",
    "    return len(np.where(diff == 0)[0])*1.0/len(diff)\n",
    "accur = [eval_accur(x,y) for (x,y) in zip(y_test_data[:],np.rint(predictions))]\n",
    "print(\"Accuracy : \",np.mean(accur))"
   ]
  },
  {
   "cell_type": "markdown",
   "metadata": {},
   "source": [
    "## Predict using the trained DNN\n",
    "The accuracy for each sample is calculated as the number of points in the voltage space where it correctly predicts the charges. The total accuracy is defined as the mean over all the samples in the test set."
   ]
  },
  {
   "cell_type": "code",
   "execution_count": 32,
   "metadata": {},
   "outputs": [
    {
     "name": "stdout",
     "output_type": "stream",
     "text": [
      "Accuracy :  0.499581473214\n"
     ]
    }
   ],
   "source": [
    "predictions = list(regressor.predict(input_fn=get_test_inputs))\n",
    "def eval_accur(y1,y2):\n",
    "    diff = np.abs(y1-y2)\n",
    "    return len(np.where(diff == 0)[0])*1.0/len(diff)\n",
    "accur = [eval_accur(x,y) for (x,y) in zip(y_test_data[:],np.rint(predictions))]\n",
    "print(\"Accuracy : \",np.mean(accur))"
   ]
  },
  {
   "cell_type": "markdown",
   "metadata": {},
   "source": [
    "## Sample Predictions\n",
    "A random sample from the test set is picked and the output from the DNN is compared with the actual expected output as a visualisation."
   ]
  },
  {
   "cell_type": "code",
   "execution_count": 49,
   "metadata": {},
   "outputs": [
    {
     "data": {
      "text/plain": [
       "[<matplotlib.lines.Line2D at 0x125244208>]"
      ]
     },
     "execution_count": 49,
     "metadata": {},
     "output_type": "execute_result"
    },
    {
     "data": {
      "image/png": "[encoded data removed]",
      "text/plain": [
       "<matplotlib.figure.Figure at 0x125244320>"
      ]
     },
     "metadata": {},
     "output_type": "display_data"
    }
   ],
   "source": [
    "index = np.random.randint(n_test)\n",
    "plt.plot(np.rint(predictions[index]))\n",
    "plt.plot(y_test_data[index])"
   ]
  },
  {
   "cell_type": "code",
   "execution_count": null,
   "metadata": {
    "collapsed": true
   },
   "outputs": [],
   "source": []
  }
 ],
 "metadata": {
  "kernelspec": {
   "display_name": "Python 3",
   "language": "python",
   "name": "python3"
  },
  "language_info": {
   "codemirror_mode": {
    "name": "ipython",
    "version": 3
   },
   "file_extension": ".py",
   "mimetype": "text/x-python",
   "name": "python",
   "nbconvert_exporter": "python",
   "pygments_lexer": "ipython3",
   "version": "3.5.2"
  }
 },
 "nbformat": 4,
 "nbformat_minor": 2
}
