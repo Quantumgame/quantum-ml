{
 "cells": [
  {
   "cell_type": "markdown",
   "metadata": {},
   "source": [
    "# Learning State\n",
    "This notebook deals with learning the state of a device from the current information at each point in the voltage space."
   ]
  },
  {
   "cell_type": "code",
   "execution_count": 1,
   "metadata": {
    "collapsed": true
   },
   "outputs": [],
   "source": [
    "import numpy as np\n",
    "import matplotlib.pyplot as plt\n",
    "%matplotlib inline\n",
    "import tensorflow as tf\n",
    "tf.logging.set_verbosity(tf.logging.INFO)\n",
    "import glob"
   ]
  },
  {
   "cell_type": "markdown",
   "metadata": {},
   "source": [
    "## Loading the data\n",
    "[Change the data path when loading from a different folder]"
   ]
  },
  {
   "cell_type": "code",
   "execution_count": 2,
   "metadata": {},
   "outputs": [
    {
     "name": "stdout",
     "output_type": "stream",
     "text": [
      "1060\n"
     ]
    }
   ],
   "source": [
    "data_path = \"/Users/sandesh/data/quantum-ml/data_for_paper/double_dot_low_var/\"\n",
    "files = glob.glob(data_path + \"*.npy\")\n",
    "print(len(files))"
   ]
  },
  {
   "cell_type": "markdown",
   "metadata": {},
   "source": [
    "### Sample Data"
   ]
  },
  {
   "cell_type": "code",
   "execution_count": 3,
   "metadata": {},
   "outputs": [
    {
     "data": {
      "text/plain": [
       "<matplotlib.collections.PolyCollection at 0x115b402e8>"
      ]
     },
     "execution_count": 3,
     "metadata": {},
     "output_type": "execute_result"
    },
    {
     "data": {
      "image/png": "[encoded data removed]",
      "text/plain": [
       "<matplotlib.figure.Figure at 0x114aee5c0>"
      ]
     },
     "metadata": {},
     "output_type": "display_data"
    },
    {
     "data": {
      "image/png": "[encoded data removed]",
      "text/plain": [
       "<matplotlib.figure.Figure at 0x114b87710>"
      ]
     },
     "metadata": {},
     "output_type": "display_data"
    }
   ],
   "source": [
    "import random\n",
    "sample_data = np.load(random.choice(files)).item()\n",
    "\n",
    "V_P1_vec = sample_data['V_P1_vec']\n",
    "V_P2_vec = sample_data['V_P2_vec']\n",
    "N_v = len(V_P1_vec)\n",
    "current = np.array([x['current'] for x in sample_data['output']]).reshape(N_v,N_v)\n",
    "state = np.array([x['state'] for x in sample_data['output']]).reshape(N_v,N_v)\n",
    "\n",
    "XX,YY = np.meshgrid(V_P1_vec,V_P2_vec)\n",
    "plt.figure(1)\n",
    "plt.pcolor(XX,YY,1e6*current)\n",
    "plt.figure(2)\n",
    "plt.pcolor(XX,YY,state)"
   ]
  },
  {
   "cell_type": "markdown",
   "metadata": {},
   "source": [
    "### Load the entire dataset\n",
    "The current and the state maps will be loaded in a single array."
   ]
  },
  {
   "cell_type": "code",
   "execution_count": 4,
   "metadata": {
    "collapsed": true
   },
   "outputs": [],
   "source": [
    "inp_array = []\n",
    "out_array = []\n",
    "for file in files[:]:\n",
    "    dat = np.load(file).item() \n",
    "    inp_array.append(np.array([x['current'] for x in dat['output']]))\n",
    "    out_array.append(np.array([x['state'] for x in dat['output']]))\n",
    "inp_array = np.array(inp_array)\n",
    "out_array = np.array(out_array)"
   ]
  },
  {
   "cell_type": "markdown",
   "metadata": {},
   "source": [
    "## Define CNN \n",
    "\n",
    "The CNN takes in the current information as the input and provides the state information as the output."
   ]
  },
  {
   "cell_type": "code",
   "execution_count": 20,
   "metadata": {
    "collapsed": true
   },
   "outputs": [],
   "source": [
    "from tensorflow.contrib import learn\n",
    "from tensorflow.contrib.learn.python.learn.estimators import model_fn as model_fn_lib\n",
    "\n",
    "# application logic will be added here\n",
    "def cnn_model_fn(features,labels,mode):\n",
    "    '''Model function for CNN'''\n",
    "    #input layer\n",
    "    input_layer = tf.cast(tf.reshape(features[\"x\"],[-1,10000]),tf.float32)\n",
    "    \n",
    "    #conv1 = tf.layers.conv2d(inputs=input_layer,\n",
    "    #                        filters=8,\n",
    "    #                        kernel_size=[5,5],\n",
    "    #                        padding=\"same\",\n",
    "    #                        activation=tf.nn.relu)\n",
    "    #pool1 = tf.layers.max_pooling2d(inputs=conv1, pool_size=[2,2],strides=2)\n",
    "    #\n",
    "    #conv2 = tf.layers.conv2d(inputs=pool1,\n",
    "    #                        filters=16,\n",
    "    #                        kernel_size=[5,5],\n",
    "    #                        padding=\"same\",\n",
    "    #                        activation=tf.nn.relu)\n",
    "    #pool2 = tf.layers.max_pooling2d(inputs=conv2, pool_size=[2,2],strides=2)\n",
    "    #\n",
    "    #flat = tf.contrib.layers.flatten(inputs=pool2)\n",
    "    # dense output layer\n",
    "    out1 = tf.layers.dense(inputs=input_layer,units=2048,activation=tf.nn.relu)  \n",
    "    out2 = tf.layers.dense(inputs=out1,units=1024,activation=tf.nn.relu)  \n",
    "    out3 = tf.layers.dense(inputs=out2,units=512,activation=tf.nn.relu)  \n",
    "    out4 = tf.layers.dense(inputs=out3,units=256,activation=tf.nn.relu)  \n",
    "    \n",
    "    out = tf.layers.dense(inputs=out4, units=10000)\n",
    "    \n",
    "    loss = None\n",
    "\n",
    "    # Calculate loss( for both TRAIN AND EVAL modes)\n",
    "    if mode != learn.ModeKeys.INFER:\n",
    "        loss = tf.losses.mean_squared_error(labels=labels, predictions=out)\n",
    "\n",
    "    # Configure the training op (for TRAIN mode)\n",
    "    if mode == tf.estimator.ModeKeys.TRAIN:\n",
    "        optimizer = tf.train.AdamOptimizer()\n",
    "        train_op = optimizer.minimize(\n",
    "            loss=loss,\n",
    "            global_step=tf.train.get_global_step())\n",
    "        return tf.estimator.EstimatorSpec(mode=mode, loss=loss, train_op=train_op)\n",
    "    \n",
    "    # Generate predictions\n",
    "    predictions= {\n",
    "        \"states\" : tf.rint(out),\n",
    "    }\n",
    "    if mode == tf.estimator.ModeKeys.PREDICT:\n",
    "        return tf.estimator.EstimatorSpec(mode=mode, predictions=predictions)\n",
    "\n",
    "\n",
    "    # Add evaluation metrics (for EVAL mode)\n",
    "    eval_metric_ops = {\n",
    "        \"accuracy\": tf.metrics.accuracy(\n",
    "            labels=labels, predictions=predictions[\"states\"])}\n",
    "    \n",
    "    return tf.estimator.EstimatorSpec(mode=mode, loss=loss, eval_metric_ops=eval_metric_ops)\n"
   ]
  },
  {
   "cell_type": "markdown",
   "metadata": {},
   "source": [
    "## Divide the dataset into training and test data"
   ]
  },
  {
   "cell_type": "code",
   "execution_count": 18,
   "metadata": {},
   "outputs": [
    {
     "name": "stdout",
     "output_type": "stream",
     "text": [
      "Number of inputs: 10000\n",
      "Number of outputs: 10000\n",
      "Total, Training, Test\n",
      "1060 954 106\n"
     ]
    }
   ],
   "source": [
    "# determines the number of inputs used as the training set\n",
    "# the rest are treated as a test set\n",
    "train_factor = 0.9\n",
    "\n",
    "n_tot = inp_array.shape[0]\n",
    "n_train = int(train_factor*n_tot)\n",
    "n_test = n_tot - n_train\n",
    "\n",
    "# input parameters\n",
    "n_inp = inp_array[0].shape[0] \n",
    "n_out = out_array[0].shape[0] \n",
    "print(\"Number of inputs:\", n_inp)\n",
    "print(\"Number of outputs:\", n_out)\n",
    "\n",
    "x_train_data = inp_array[:n_train]\n",
    "y_train_data = out_array[:n_train].astype(int)\n",
    "x_test_data = inp_array[n_train:]\n",
    "y_test_data = out_array[n_train:].astype(int)\n",
    "\n",
    "print(\"Total, Training, Test\")\n",
    "print(n_tot, n_train, n_test)"
   ]
  },
  {
   "cell_type": "markdown",
   "metadata": {},
   "source": [
    "## Define the input  functions"
   ]
  },
  {
   "cell_type": "code",
   "execution_count": 21,
   "metadata": {
    "collapsed": true,
    "scrolled": true
   },
   "outputs": [],
   "source": [
    "train_input_fn = tf.estimator.inputs.numpy_input_fn(\n",
    "      x={\"x\" : x_train_data},\n",
    "      y=y_train_data,\n",
    "      num_epochs=100,\n",
    "      batch_size=32,\n",
    "      shuffle=False)\n",
    "test_input_fn = tf.estimator.inputs.numpy_input_fn(\n",
    "      x={\"x\" : x_test_data},\n",
    "      y=y_test_data,\n",
    "      shuffle=False)\n",
    "\n",
    "\n"
   ]
  },
  {
   "cell_type": "markdown",
   "metadata": {},
   "source": [
    "## Train the CNN"
   ]
  },
  {
   "cell_type": "code",
   "execution_count": 27,
   "metadata": {},
   "outputs": [
    {
     "name": "stdout",
     "output_type": "stream",
     "text": [
      "INFO:tensorflow:Using default config.\n",
      "WARNING:tensorflow:Using temporary folder as model directory: /var/folders/4f/dzjlj30x1bv7zk7rdkyspqmc0000gn/T/tmpf30mtpja\n",
      "INFO:tensorflow:Using config: {'_log_step_count_steps': 100, '_save_checkpoints_secs': 600, '_task_id': 0, '_session_config': None, '_tf_random_seed': None, '_keep_checkpoint_max': 5, '_is_chief': True, '_task_type': 'worker', '_num_ps_replicas': 0, '_cluster_spec': <tensorflow.python.training.server_lib.ClusterSpec object at 0x116997d68>, '_model_dir': '/var/folders/4f/dzjlj30x1bv7zk7rdkyspqmc0000gn/T/tmpf30mtpja', '_service': None, '_num_worker_replicas': 1, '_keep_checkpoint_every_n_hours': 10000, '_master': '', '_save_checkpoints_steps': None, '_save_summary_steps': 100}\n",
      "INFO:tensorflow:Create CheckpointSaverHook.\n",
      "INFO:tensorflow:Saving checkpoints for 1 into /var/folders/4f/dzjlj30x1bv7zk7rdkyspqmc0000gn/T/tmpf30mtpja/model.ckpt.\n",
      "INFO:tensorflow:loss = 2.01038, step = 1\n",
      "INFO:tensorflow:global_step/sec: 2.26434\n",
      "INFO:tensorflow:loss = 0.18165, step = 101 (44.217 sec)\n",
      "INFO:tensorflow:global_step/sec: 2.6914\n",
      "INFO:tensorflow:loss = 0.194083, step = 201 (37.110 sec)\n",
      "INFO:tensorflow:global_step/sec: 2.24176\n",
      "INFO:tensorflow:loss = 0.184478, step = 301 (44.621 sec)\n",
      "INFO:tensorflow:global_step/sec: 1.48641\n",
      "INFO:tensorflow:loss = 0.187612, step = 401 (67.304 sec)\n",
      "INFO:tensorflow:global_step/sec: 1.85163\n",
      "INFO:tensorflow:loss = 0.184595, step = 501 (53.984 sec)\n",
      "INFO:tensorflow:global_step/sec: 3.16969\n",
      "INFO:tensorflow:loss = 0.175566, step = 601 (31.534 sec)\n",
      "INFO:tensorflow:global_step/sec: 3.37661\n",
      "INFO:tensorflow:loss = 0.182421, step = 701 (29.614 sec)\n",
      "INFO:tensorflow:global_step/sec: 3.29964\n",
      "INFO:tensorflow:loss = 0.189111, step = 801 (30.309 sec)\n",
      "INFO:tensorflow:global_step/sec: 3.42302\n",
      "INFO:tensorflow:loss = 0.168888, step = 901 (29.212 sec)\n",
      "INFO:tensorflow:global_step/sec: 3.45791\n",
      "INFO:tensorflow:loss = 0.146259, step = 1001 (28.911 sec)\n",
      "INFO:tensorflow:global_step/sec: 3.21958\n",
      "INFO:tensorflow:loss = 0.146462, step = 1101 (31.066 sec)\n",
      "INFO:tensorflow:global_step/sec: 3.28377\n",
      "INFO:tensorflow:loss = 0.147141, step = 1201 (30.454 sec)\n",
      "INFO:tensorflow:global_step/sec: 3.38815\n",
      "INFO:tensorflow:loss = 0.130253, step = 1301 (29.518 sec)\n",
      "INFO:tensorflow:global_step/sec: 3.44233\n",
      "INFO:tensorflow:loss = 0.141844, step = 1401 (29.039 sec)\n",
      "INFO:tensorflow:global_step/sec: 3.46704\n",
      "INFO:tensorflow:loss = 0.145423, step = 1501 (28.840 sec)\n",
      "INFO:tensorflow:global_step/sec: 2.62148\n",
      "INFO:tensorflow:loss = 0.121937, step = 1601 (38.159 sec)\n",
      "INFO:tensorflow:Saving checkpoints for 1640 into /var/folders/4f/dzjlj30x1bv7zk7rdkyspqmc0000gn/T/tmpf30mtpja/model.ckpt.\n",
      "INFO:tensorflow:global_step/sec: 2.94482\n",
      "INFO:tensorflow:loss = 0.146715, step = 1701 (33.950 sec)\n",
      "INFO:tensorflow:global_step/sec: 3.34342\n",
      "INFO:tensorflow:loss = 0.134044, step = 1801 (29.932 sec)\n",
      "INFO:tensorflow:global_step/sec: 3.36343\n",
      "INFO:tensorflow:loss = 0.147116, step = 1901 (29.713 sec)\n",
      "INFO:tensorflow:global_step/sec: 2.50561\n",
      "INFO:tensorflow:loss = 0.147918, step = 2001 (39.914 sec)\n",
      "INFO:tensorflow:global_step/sec: 3.07929\n",
      "INFO:tensorflow:loss = 0.148787, step = 2101 (32.475 sec)\n",
      "INFO:tensorflow:global_step/sec: 2.04436\n",
      "INFO:tensorflow:loss = 0.140444, step = 2201 (48.915 sec)\n",
      "INFO:tensorflow:global_step/sec: 2.77972\n",
      "INFO:tensorflow:loss = 0.149533, step = 2301 (35.974 sec)\n",
      "INFO:tensorflow:global_step/sec: 2.7452\n",
      "INFO:tensorflow:loss = 0.134036, step = 2401 (36.431 sec)\n",
      "INFO:tensorflow:global_step/sec: 2.1319\n",
      "INFO:tensorflow:loss = 0.136464, step = 2501 (46.907 sec)\n",
      "INFO:tensorflow:global_step/sec: 2.50052\n",
      "INFO:tensorflow:loss = 0.133064, step = 2601 (39.996 sec)\n",
      "INFO:tensorflow:global_step/sec: 1.68572\n",
      "INFO:tensorflow:loss = 0.124434, step = 2701 (59.374 sec)\n",
      "INFO:tensorflow:global_step/sec: 2.68056\n",
      "INFO:tensorflow:loss = 0.104734, step = 2801 (37.257 sec)\n",
      "INFO:tensorflow:global_step/sec: 1.95502\n",
      "INFO:tensorflow:loss = 0.108979, step = 2901 (51.170 sec)\n",
      "INFO:tensorflow:Saving checkpoints for 2982 into /var/folders/4f/dzjlj30x1bv7zk7rdkyspqmc0000gn/T/tmpf30mtpja/model.ckpt.\n",
      "INFO:tensorflow:Loss for final step: 0.134875.\n"
     ]
    },
    {
     "data": {
      "text/plain": [
       "<tensorflow.python.estimator.estimator.Estimator at 0x114e7e240>"
      ]
     },
     "execution_count": 27,
     "metadata": {},
     "output_type": "execute_result"
    }
   ],
   "source": [
    "state_classifier = tf.estimator.Estimator(model_fn=cnn_model_fn)\n",
    "state_classifier.train(input_fn=train_input_fn)"
   ]
  },
  {
   "cell_type": "markdown",
   "metadata": {},
   "source": [
    "More training, if necessary."
   ]
  },
  {
   "cell_type": "code",
   "execution_count": 35,
   "metadata": {},
   "outputs": [
    {
     "name": "stdout",
     "output_type": "stream",
     "text": [
      "INFO:tensorflow:Create CheckpointSaverHook.\n",
      "INFO:tensorflow:Restoring parameters from /var/folders/4f/dzjlj30x1bv7zk7rdkyspqmc0000gn/T/tmpf30mtpja/model.ckpt-5964\n",
      "INFO:tensorflow:Saving checkpoints for 5965 into /var/folders/4f/dzjlj30x1bv7zk7rdkyspqmc0000gn/T/tmpf30mtpja/model.ckpt.\n",
      "INFO:tensorflow:loss = 0.0539478, step = 5965\n",
      "INFO:tensorflow:global_step/sec: 2.78824\n",
      "INFO:tensorflow:loss = 0.0561397, step = 6065 (35.876 sec)\n",
      "INFO:tensorflow:global_step/sec: 3.00906\n",
      "INFO:tensorflow:loss = 0.0597253, step = 6165 (33.231 sec)\n",
      "INFO:tensorflow:global_step/sec: 3.17123\n",
      "INFO:tensorflow:loss = 0.0682459, step = 6265 (31.532 sec)\n",
      "INFO:tensorflow:global_step/sec: 3.03409\n",
      "INFO:tensorflow:loss = 0.063166, step = 6365 (32.967 sec)\n",
      "INFO:tensorflow:global_step/sec: 2.33942\n",
      "INFO:tensorflow:loss = 0.0552397, step = 6465 (42.741 sec)\n",
      "INFO:tensorflow:global_step/sec: 2.82826\n",
      "INFO:tensorflow:loss = 0.054085, step = 6565 (35.353 sec)\n",
      "INFO:tensorflow:global_step/sec: 3.30686\n",
      "INFO:tensorflow:loss = 0.0601293, step = 6665 (30.240 sec)\n",
      "INFO:tensorflow:global_step/sec: 3.44721\n",
      "INFO:tensorflow:loss = 0.0561172, step = 6765 (29.005 sec)\n",
      "INFO:tensorflow:global_step/sec: 3.11231\n",
      "INFO:tensorflow:loss = 0.0526618, step = 6865 (32.137 sec)\n",
      "INFO:tensorflow:global_step/sec: 2.90097\n",
      "INFO:tensorflow:loss = 0.069093, step = 6965 (34.484 sec)\n",
      "INFO:tensorflow:global_step/sec: 3.00084\n",
      "INFO:tensorflow:loss = 0.076182, step = 7065 (33.310 sec)\n",
      "INFO:tensorflow:global_step/sec: 3.09058\n",
      "INFO:tensorflow:loss = 0.0524408, step = 7165 (32.360 sec)\n",
      "INFO:tensorflow:global_step/sec: 3.20744\n",
      "INFO:tensorflow:loss = 0.0747114, step = 7265 (31.174 sec)\n",
      "INFO:tensorflow:global_step/sec: 2.58859\n",
      "INFO:tensorflow:loss = 0.0526694, step = 7365 (38.634 sec)\n",
      "INFO:tensorflow:global_step/sec: 2.77272\n",
      "INFO:tensorflow:loss = 0.052865, step = 7465 (36.063 sec)\n",
      "INFO:tensorflow:global_step/sec: 2.23237\n",
      "INFO:tensorflow:loss = 0.0526586, step = 7565 (44.811 sec)\n",
      "INFO:tensorflow:Saving checkpoints for 7664 into /var/folders/4f/dzjlj30x1bv7zk7rdkyspqmc0000gn/T/tmpf30mtpja/model.ckpt.\n",
      "INFO:tensorflow:global_step/sec: 2.07742\n",
      "INFO:tensorflow:loss = 0.0511375, step = 7665 (48.111 sec)\n",
      "INFO:tensorflow:global_step/sec: 2.76414\n",
      "INFO:tensorflow:loss = 0.0494546, step = 7765 (36.189 sec)\n",
      "INFO:tensorflow:global_step/sec: 2.49531\n",
      "INFO:tensorflow:loss = 0.0525288, step = 7865 (40.087 sec)\n",
      "INFO:tensorflow:global_step/sec: 2.34097\n",
      "INFO:tensorflow:loss = 0.0489229, step = 7965 (42.713 sec)\n",
      "INFO:tensorflow:global_step/sec: 2.77877\n",
      "INFO:tensorflow:loss = 0.0481265, step = 8065 (35.994 sec)\n",
      "INFO:tensorflow:global_step/sec: 2.28426\n",
      "INFO:tensorflow:loss = 0.0490602, step = 8165 (43.774 sec)\n",
      "INFO:tensorflow:global_step/sec: 2.3991\n",
      "INFO:tensorflow:loss = 0.0484415, step = 8265 (41.677 sec)\n",
      "INFO:tensorflow:global_step/sec: 2.7472\n",
      "INFO:tensorflow:loss = 0.0547167, step = 8365 (36.395 sec)\n",
      "INFO:tensorflow:global_step/sec: 2.42059\n",
      "INFO:tensorflow:loss = 0.055952, step = 8465 (41.314 sec)\n",
      "INFO:tensorflow:global_step/sec: 2.8507\n",
      "INFO:tensorflow:loss = 0.0485195, step = 8565 (35.085 sec)\n",
      "INFO:tensorflow:global_step/sec: 2.84547\n",
      "INFO:tensorflow:loss = 0.0482305, step = 8665 (35.138 sec)\n",
      "INFO:tensorflow:global_step/sec: 3.07025\n",
      "INFO:tensorflow:loss = 0.0598654, step = 8765 (32.576 sec)\n",
      "INFO:tensorflow:global_step/sec: 2.84753\n",
      "INFO:tensorflow:loss = 0.0566586, step = 8865 (35.113 sec)\n",
      "INFO:tensorflow:Saving checkpoints for 8946 into /var/folders/4f/dzjlj30x1bv7zk7rdkyspqmc0000gn/T/tmpf30mtpja/model.ckpt.\n",
      "INFO:tensorflow:Loss for final step: 0.0587046.\n"
     ]
    },
    {
     "data": {
      "text/plain": [
       "<tensorflow.python.estimator.estimator.Estimator at 0x114e7e240>"
      ]
     },
     "execution_count": 35,
     "metadata": {},
     "output_type": "execute_result"
    }
   ],
   "source": [
    "state_classifier.train(input_fn=train_input_fn)"
   ]
  },
  {
   "cell_type": "markdown",
   "metadata": {},
   "source": [
    "## Evaluate the Model"
   ]
  },
  {
   "cell_type": "code",
   "execution_count": 36,
   "metadata": {},
   "outputs": [
    {
     "name": "stdout",
     "output_type": "stream",
     "text": [
      "INFO:tensorflow:Starting evaluation at 2017-12-11-11:56:27\n",
      "INFO:tensorflow:Restoring parameters from /var/folders/4f/dzjlj30x1bv7zk7rdkyspqmc0000gn/T/tmpf30mtpja/model.ckpt-8946\n",
      "INFO:tensorflow:Evaluation [1/1]\n",
      "INFO:tensorflow:Finished evaluation at 2017-12-11-11:56:29\n",
      "INFO:tensorflow:Saving dict for global step 8946: accuracy = 0.896676, global_step = 8946, loss = 0.0816705\n",
      "{'loss': 0.081670485, 'accuracy': 0.89667642, 'global_step': 8946}\n"
     ]
    }
   ],
   "source": [
    "eval_results = state_classifier.evaluate(input_fn=test_input_fn,steps=1)\n",
    "print(eval_results)"
   ]
  },
  {
   "cell_type": "code",
   "execution_count": 37,
   "metadata": {},
   "outputs": [
    {
     "name": "stdout",
     "output_type": "stream",
     "text": [
      "INFO:tensorflow:Restoring parameters from /var/folders/4f/dzjlj30x1bv7zk7rdkyspqmc0000gn/T/tmpf30mtpja/model.ckpt-8946\n"
     ]
    }
   ],
   "source": [
    "predictions = list(state_classifier.predict(input_fn = test_input_fn))"
   ]
  },
  {
   "cell_type": "code",
   "execution_count": 38,
   "metadata": {},
   "outputs": [
    {
     "data": {
      "text/plain": [
       "<matplotlib.collections.PolyCollection at 0x11735c550>"
      ]
     },
     "execution_count": 38,
     "metadata": {},
     "output_type": "execute_result"
    },
    {
     "data": {
      "image/png": "[encoded data removed]",
      "text/plain": [
       "<matplotlib.figure.Figure at 0x11854e048>"
      ]
     },
     "metadata": {},
     "output_type": "display_data"
    },
    {
     "data": {
      "image/png": "[encoded data removed]",
      "text/plain": [
       "<matplotlib.figure.Figure at 0x11854e0b8>"
      ]
     },
     "metadata": {},
     "output_type": "display_data"
    }
   ],
   "source": [
    "index = np.random.randint(len(predictions))\n",
    "plt.figure(1)\n",
    "plt.pcolor(predictions[index]['states'].reshape(100,100))\n",
    "plt.figure(2)\n",
    "plt.pcolor(y_test_data[index].reshape(100,100))"
   ]
  },
  {
   "cell_type": "code",
   "execution_count": null,
   "metadata": {
    "collapsed": true
   },
   "outputs": [],
   "source": []
  }
 ],
 "metadata": {
  "kernelspec": {
   "display_name": "Python 3",
   "language": "python",
   "name": "python3"
  },
  "language_info": {
   "codemirror_mode": {
    "name": "ipython",
    "version": 3
   },
   "file_extension": ".py",
   "mimetype": "text/x-python",
   "name": "python",
   "nbconvert_exporter": "python",
   "pygments_lexer": "ipython3",
   "version": "3.5.2"
  }
 },
 "nbformat": 4,
 "nbformat_minor": 2
}
