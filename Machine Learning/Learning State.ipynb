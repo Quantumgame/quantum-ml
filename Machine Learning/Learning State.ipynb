{
 "cells": [
  {
   "cell_type": "markdown",
   "metadata": {},
   "source": [
    "# Learning State\n",
    "This notebook deals with learning the state of a device from the current information at each point in the voltage space."
   ]
  },
  {
   "cell_type": "code",
   "execution_count": 140,
   "metadata": {
    "collapsed": true
   },
   "outputs": [],
   "source": [
    "import numpy as np\n",
    "import matplotlib.pyplot as plt\n",
    "%matplotlib inline\n",
    "import tensorflow as tf\n",
    "tf.logging.set_verbosity(tf.logging.INFO)\n",
    "import glob"
   ]
  },
  {
   "cell_type": "markdown",
   "metadata": {},
   "source": [
    "## Loading the data\n",
    "[Change the data path when loading from a different folder]"
   ]
  },
  {
   "cell_type": "code",
   "execution_count": 128,
   "metadata": {},
   "outputs": [
    {
     "name": "stdout",
     "output_type": "stream",
     "text": [
      "1060\n"
     ]
    }
   ],
   "source": [
    "data_path = \"/Users/sandesh/data/QFlow/data_for_paper/double_dot_low_var/\"\n",
    "files = glob.glob(data_path + \"*.npy\")\n",
    "print(len(files))"
   ]
  },
  {
   "cell_type": "markdown",
   "metadata": {},
   "source": [
    "### Sample Data"
   ]
  },
  {
   "cell_type": "code",
   "execution_count": 129,
   "metadata": {},
   "outputs": [
    {
     "data": {
      "text/plain": [
       "<matplotlib.collections.PolyCollection at 0x11c77f438>"
      ]
     },
     "execution_count": 129,
     "metadata": {},
     "output_type": "execute_result"
    },
    {
     "data": {
      "image/png": "[encoded data removed]",
      "text/plain": [
       "<matplotlib.figure.Figure at 0x117a5edd8>"
      ]
     },
     "metadata": {},
     "output_type": "display_data"
    },
    {
     "data": {
      "image/png": "[encoded data removed]",
      "text/plain": [
       "<matplotlib.figure.Figure at 0x1135f8278>"
      ]
     },
     "metadata": {},
     "output_type": "display_data"
    }
   ],
   "source": [
    "import random\n",
    "sample_data = np.load(random.choice(files)).item()\n",
    "\n",
    "V_P1_vec = sample_data['V_P1_vec']\n",
    "V_P2_vec = sample_data['V_P2_vec']\n",
    "N_v = len(V_P1_vec)\n",
    "current = np.array([x['current'] for x in sample_data['output']]).reshape(N_v,N_v)\n",
    "state = np.array([x['state'] for x in sample_data['output']]).reshape(N_v,N_v)\n",
    "\n",
    "XX,YY = np.meshgrid(V_P1_vec,V_P2_vec)\n",
    "plt.figure(1)\n",
    "plt.pcolor(XX,YY,1e6*current)\n",
    "plt.figure(2)\n",
    "plt.pcolor(XX,YY,state)"
   ]
  },
  {
   "cell_type": "markdown",
   "metadata": {},
   "source": [
    "### Load the entire dataset\n",
    "The current and the state maps will be loaded in a single array."
   ]
  },
  {
   "cell_type": "code",
   "execution_count": 160,
   "metadata": {},
   "outputs": [],
   "source": [
    "inp_array = []\n",
    "out_array = []\n",
    "for file in files[:]:\n",
    "    dat = np.load(file).item() \n",
    "    inp_array.append(np.array([x['current'] for x in dat['output']]))\n",
    "    out_array.append(np.array([x['state'] for x in dat['output']]))\n",
    "inp_array = np.array(inp_array)\n",
    "out_array = np.array(out_array)"
   ]
  },
  {
   "cell_type": "markdown",
   "metadata": {},
   "source": [
    "## Define CNN \n",
    "\n",
    "The CNN takes in the current information as the input and provides the state information as the output."
   ]
  },
  {
   "cell_type": "code",
   "execution_count": 161,
   "metadata": {
    "collapsed": true
   },
   "outputs": [],
   "source": [
    "from tensorflow.contrib import learn\n",
    "from tensorflow.contrib.learn.python.learn.estimators import model_fn as model_fn_lib\n",
    "\n",
    "# application logic will be added here\n",
    "def cnn_model_fn(features,labels,mode):\n",
    "    '''Model function for CNN'''\n",
    "    #input layer\n",
    "    input_layer = tf.cast(tf.reshape(features[\"x\"],[-1,100,100,1]),tf.float32)\n",
    "    \n",
    "    conv1 = tf.layers.conv2d(inputs=input_layer,\n",
    "                            filters=8,\n",
    "                            kernel_size=[5,5],\n",
    "                            padding=\"same\",\n",
    "                            activation=tf.nn.relu)\n",
    "    pool1 = tf.layers.max_pooling2d(inputs=conv1, pool_size=[2,2],strides=2)\n",
    "    \n",
    "    conv2 = tf.layers.conv2d(inputs=pool1,\n",
    "                            filters=16,\n",
    "                            kernel_size=[5,5],\n",
    "                            padding=\"same\",\n",
    "                            activation=tf.nn.relu)\n",
    "    pool2 = tf.layers.max_pooling2d(inputs=conv2, pool_size=[2,2],strides=2)\n",
    "    \n",
    "    flat = tf.contrib.layers.flatten(inputs=pool2)\n",
    "    # dense output layer\n",
    "    out1 = tf.layers.dense(inputs=flat,units=1024,activation=tf.nn.relu)  \n",
    "    dropout1 = tf.layers.dropout(\n",
    "      inputs=out1, rate=0.5, training=mode == learn.ModeKeys.TRAIN)\n",
    "    \n",
    "    out = tf.layers.dense(inputs=dropout1, units=10000)\n",
    "    \n",
    "    loss = None\n",
    "\n",
    "    # Calculate loss( for both TRAIN AND EVAL modes)\n",
    "    if mode != learn.ModeKeys.INFER:\n",
    "        loss = tf.losses.mean_squared_error(labels=labels, predictions=out)\n",
    "\n",
    "    # Configure the training op (for TRAIN mode)\n",
    "    if mode == tf.estimator.ModeKeys.TRAIN:\n",
    "        optimizer = tf.train.AdamOptimizer()\n",
    "        train_op = optimizer.minimize(\n",
    "            loss=loss,\n",
    "            global_step=tf.train.get_global_step())\n",
    "        return tf.estimator.EstimatorSpec(mode=mode, loss=loss, train_op=train_op)\n",
    "    \n",
    "    # Generate predictions\n",
    "    predictions= {\n",
    "        \"states\" : tf.rint(out),\n",
    "    }\n",
    "    if mode == tf.estimator.ModeKeys.PREDICT:\n",
    "        return tf.estimator.EstimatorSpec(mode=mode, predictions=predictions)\n",
    "\n",
    "\n",
    "    # Add evaluation metrics (for EVAL mode)\n",
    "    eval_metric_ops = {\n",
    "        \"accuracy\": tf.metrics.accuracy(\n",
    "            labels=labels, predictions=predictions[\"states\"])}\n",
    "    \n",
    "    return tf.estimator.EstimatorSpec(mode=mode, loss=loss, eval_metric_ops=eval_metric_ops)\n"
   ]
  },
  {
   "cell_type": "markdown",
   "metadata": {},
   "source": [
    "## Divide the dataset into training and test data"
   ]
  },
  {
   "cell_type": "code",
   "execution_count": 162,
   "metadata": {},
   "outputs": [
    {
     "name": "stdout",
     "output_type": "stream",
     "text": [
      "Number of inputs: 10000\n",
      "Number of outputs: 10000\n",
      "Total, Training, Test\n",
      "1060 954 106\n"
     ]
    }
   ],
   "source": [
    "# determines the number of inputs used as the training set\n",
    "# the rest are treated as a test set\n",
    "train_factor = 0.9\n",
    "\n",
    "n_tot = inp_array.shape[0]\n",
    "n_train = int(train_factor*n_tot)\n",
    "n_test = n_tot - n_train\n",
    "\n",
    "# input parameters\n",
    "n_inp = inp_array[0].shape[0] \n",
    "n_out = out_array[0].shape[0] \n",
    "print(\"Number of inputs:\", n_inp)\n",
    "print(\"Number of outputs:\", n_out)\n",
    "\n",
    "x_train_data = inp_array[:n_train]\n",
    "y_train_data = out_array[:n_train].astype(int)\n",
    "x_test_data = inp_array[n_train:]\n",
    "y_test_data = out_array[n_train:].astype(int)\n",
    "\n",
    "print(\"Total, Training, Test\")\n",
    "print(n_tot, n_train, n_test)"
   ]
  },
  {
   "cell_type": "markdown",
   "metadata": {},
   "source": [
    "## Define the input  functions"
   ]
  },
  {
   "cell_type": "code",
   "execution_count": 163,
   "metadata": {
    "collapsed": true,
    "scrolled": true
   },
   "outputs": [],
   "source": [
    "train_input_fn = tf.estimator.inputs.numpy_input_fn(\n",
    "      x={\"x\" : x_train_data},\n",
    "      y=y_train_data,\n",
    "      num_epochs=100,\n",
    "      batch_size=128,\n",
    "      shuffle=False)\n",
    "test_input_fn = tf.estimator.inputs.numpy_input_fn(\n",
    "      x={\"x\" : x_test_data},\n",
    "      y=y_test_data,\n",
    "      shuffle=False)\n",
    "\n",
    "\n"
   ]
  },
  {
   "cell_type": "markdown",
   "metadata": {},
   "source": [
    "## Train the CNN"
   ]
  },
  {
   "cell_type": "code",
   "execution_count": 164,
   "metadata": {},
   "outputs": [
    {
     "name": "stdout",
     "output_type": "stream",
     "text": [
      "INFO:tensorflow:Using default config.\n",
      "WARNING:tensorflow:Using temporary folder as model directory: /var/folders/4f/dzjlj30x1bv7zk7rdkyspqmc0000gn/T/tmpaq5qwkce\n",
      "INFO:tensorflow:Using config: {'_save_checkpoints_steps': None, '_save_summary_steps': 100, '_save_checkpoints_secs': 600, '_task_id': 0, '_num_worker_replicas': 1, '_task_type': 'worker', '_keep_checkpoint_every_n_hours': 10000, '_cluster_spec': <tensorflow.python.training.server_lib.ClusterSpec object at 0x119dc74a8>, '_tf_random_seed': None, '_session_config': None, '_is_chief': True, '_master': '', '_model_dir': '/var/folders/4f/dzjlj30x1bv7zk7rdkyspqmc0000gn/T/tmpaq5qwkce', '_service': None, '_log_step_count_steps': 100, '_keep_checkpoint_max': 5, '_num_ps_replicas': 0}\n",
      "INFO:tensorflow:Create CheckpointSaverHook.\n",
      "INFO:tensorflow:Saving checkpoints for 1 into /var/folders/4f/dzjlj30x1bv7zk7rdkyspqmc0000gn/T/tmpaq5qwkce/model.ckpt.\n",
      "INFO:tensorflow:step = 1, loss = 1.94873\n",
      "INFO:tensorflow:global_step/sec: 0.516895\n",
      "INFO:tensorflow:step = 101, loss = 0.205348 (193.481 sec)\n",
      "INFO:tensorflow:global_step/sec: 0.522025\n",
      "INFO:tensorflow:step = 201, loss = 0.198357 (191.567 sec)\n",
      "INFO:tensorflow:global_step/sec: 0.55098\n",
      "INFO:tensorflow:step = 301, loss = 0.196977 (181.486 sec)\n",
      "INFO:tensorflow:Saving checkpoints for 319 into /var/folders/4f/dzjlj30x1bv7zk7rdkyspqmc0000gn/T/tmpaq5qwkce/model.ckpt.\n",
      "INFO:tensorflow:global_step/sec: 0.545557\n",
      "INFO:tensorflow:step = 401, loss = 0.193824 (183.299 sec)\n",
      "INFO:tensorflow:global_step/sec: 0.558876\n",
      "INFO:tensorflow:step = 501, loss = 0.192422 (178.932 sec)\n",
      "INFO:tensorflow:global_step/sec: 0.559526\n",
      "INFO:tensorflow:step = 601, loss = 0.191323 (178.721 sec)\n",
      "INFO:tensorflow:Saving checkpoints for 653 into /var/folders/4f/dzjlj30x1bv7zk7rdkyspqmc0000gn/T/tmpaq5qwkce/model.ckpt.\n",
      "INFO:tensorflow:global_step/sec: 0.550941\n",
      "INFO:tensorflow:step = 701, loss = 0.193774 (181.507 sec)\n",
      "INFO:tensorflow:Saving checkpoints for 746 into /var/folders/4f/dzjlj30x1bv7zk7rdkyspqmc0000gn/T/tmpaq5qwkce/model.ckpt.\n",
      "INFO:tensorflow:Loss for final step: 0.194981.\n"
     ]
    },
    {
     "data": {
      "text/plain": [
       "<tensorflow.python.estimator.estimator.Estimator at 0x11b2f6780>"
      ]
     },
     "execution_count": 164,
     "metadata": {},
     "output_type": "execute_result"
    }
   ],
   "source": [
    "state_classifier = tf.estimator.Estimator(model_fn=cnn_model_fn)\n",
    "state_classifier.train(input_fn=train_input_fn)"
   ]
  },
  {
   "cell_type": "markdown",
   "metadata": {},
   "source": [
    "## Evaluate the Model"
   ]
  },
  {
   "cell_type": "code",
   "execution_count": 165,
   "metadata": {},
   "outputs": [
    {
     "name": "stdout",
     "output_type": "stream",
     "text": [
      "INFO:tensorflow:Starting evaluation at 2017-11-27-05:41:32\n",
      "INFO:tensorflow:Restoring parameters from /var/folders/4f/dzjlj30x1bv7zk7rdkyspqmc0000gn/T/tmpaq5qwkce/model.ckpt-746\n",
      "INFO:tensorflow:Evaluation [1/1]\n",
      "INFO:tensorflow:Finished evaluation at 2017-11-27-05:41:33\n",
      "INFO:tensorflow:Saving dict for global step 746: accuracy = 0.763219, global_step = 746, loss = 0.184676\n",
      "{'loss': 0.18467566, 'accuracy': 0.76321888, 'global_step': 746}\n"
     ]
    }
   ],
   "source": [
    "eval_results = state_classifier.evaluate(input_fn=test_input_fn,steps=1)\n",
    "print(eval_results)"
   ]
  },
  {
   "cell_type": "code",
   "execution_count": 152,
   "metadata": {},
   "outputs": [
    {
     "name": "stdout",
     "output_type": "stream",
     "text": [
      "INFO:tensorflow:Restoring parameters from /var/folders/4f/dzjlj30x1bv7zk7rdkyspqmc0000gn/T/tmpbg5ff1tc/model.ckpt-113\n"
     ]
    }
   ],
   "source": [
    "predictions = list(state_classifier.predict(input_fn = test_input_fn))"
   ]
  },
  {
   "cell_type": "code",
   "execution_count": 155,
   "metadata": {},
   "outputs": [
    {
     "data": {
      "text/plain": [
       "<matplotlib.collections.PolyCollection at 0x11c3e85f8>"
      ]
     },
     "execution_count": 155,
     "metadata": {},
     "output_type": "execute_result"
    },
    {
     "data": {
      "image/png": "[encoded data removed]",
      "text/plain": [
       "<matplotlib.figure.Figure at 0x11d5e3cf8>"
      ]
     },
     "metadata": {},
     "output_type": "display_data"
    },
    {
     "data": {
      "image/png": "[encoded data removed]",
      "text/plain": [
       "<matplotlib.figure.Figure at 0x11c4a4f28>"
      ]
     },
     "metadata": {},
     "output_type": "display_data"
    }
   ],
   "source": [
    "index = np.random.randint(len(predictions))\n",
    "plt.figure(1)\n",
    "plt.pcolor(predictions[index]['states'].reshape(100,100))\n",
    "plt.figure(2)\n",
    "plt.pcolor(y_test_data[index].reshape(100,100))"
   ]
  },
  {
   "cell_type": "code",
   "execution_count": null,
   "metadata": {
    "collapsed": true
   },
   "outputs": [],
   "source": []
  }
 ],
 "metadata": {
  "kernelspec": {
   "display_name": "Python 3",
   "language": "python",
   "name": "python3"
  },
  "language_info": {
   "codemirror_mode": {
    "name": "ipython",
    "version": 3
   },
   "file_extension": ".py",
   "mimetype": "text/x-python",
   "name": "python",
   "nbconvert_exporter": "python",
   "pygments_lexer": "ipython3",
   "version": "3.5.2"
  }
 },
 "nbformat": 4,
 "nbformat_minor": 2
}
