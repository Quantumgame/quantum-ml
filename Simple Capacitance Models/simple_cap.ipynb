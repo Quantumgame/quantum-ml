{
 "cells": [
  {
   "cell_type": "code",
   "execution_count": null,
   "metadata": {
    "collapsed": true
   },
   "outputs": [],
   "source": [
    "import numpy as np\n",
    "import matplotlib.pyplot as plt\n",
    "%matplotlib inline\n",
    "import itertools\n",
    "\n",
    "C_mat = np.array([[1,0.2],[0.2,1]])\n",
    "Cg =np.array([1.0,1.0])\n",
    "\n",
    "def calc_state(V_g):\n",
    "    N = np.rint(Cg*Vg)\n",
    "    N_lmt = 1\n",
    "    states = list(itertools.product(range(N[0]-N_lmt,N[0]+N_lmt),range(N[0]-N_lmt,N[0]+N_lmt)))"
   ]
  },
  {
   "cell_type": "code",
   "execution_count": 32,
   "metadata": {},
   "outputs": [],
   "source": [
    "N = [2,2]\n",
    "N_lmt = 1\n",
    "import itertools\n",
    "charges = np.arange(N[0] - N_lmt,N[0] + N_lmt)\n",
    "st = itertools.product(charges,charges)\n",
    "states = list(itertools.product(np.arange(N[0]-N_lmt,N[0]+N_lmt+1),np.arange(N[1]-N_lmt,N[1]+N_lmt+1)))"
   ]
  },
  {
   "cell_type": "code",
   "execution_count": 33,
   "metadata": {},
   "outputs": [
    {
     "name": "stdout",
     "output_type": "stream",
     "text": [
      "[(1, 1), (1, 2), (1, 3), (2, 1), (2, 2), (2, 3), (3, 1), (3, 2), (3, 3)]\n"
     ]
    }
   ],
   "source": [
    "print(states)"
   ]
  },
  {
   "cell_type": "code",
   "execution_count": 16,
   "metadata": {},
   "outputs": [
    {
     "name": "stdout",
     "output_type": "stream",
     "text": [
      "[0 1]\n"
     ]
    }
   ],
   "source": [
    "import numpy as np\n",
    "print(np.arange(0,2))"
   ]
  },
  {
   "cell_type": "code",
   "execution_count": null,
   "metadata": {
    "collapsed": true
   },
   "outputs": [],
   "source": []
  }
 ],
 "metadata": {
  "kernelspec": {
   "display_name": "Python 3",
   "language": "python",
   "name": "python3"
  },
  "language_info": {
   "codemirror_mode": {
    "name": "ipython",
    "version": 3
   },
   "file_extension": ".py",
   "mimetype": "text/x-python",
   "name": "python",
   "nbconvert_exporter": "python",
   "pygments_lexer": "ipython3",
   "version": "3.5.2"
  }
 },
 "nbformat": 4,
 "nbformat_minor": 2
}
